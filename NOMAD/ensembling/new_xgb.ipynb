{
 "cells": [
  {
   "cell_type": "code",
   "execution_count": null,
   "metadata": {
    "collapsed": true
   },
   "outputs": [],
   "source": [
    "import pandas as pd\n",
    "import numpy as np\n",
    "import NUTILS as nutils\n",
    "from sklearn.metrics import mean_squared_error, make_scorer\n",
    "from sklearn.model_selection import cross_val_score\n",
    "from sklearn.model_selection import KFold\n",
    "from xgboost import XGBRegressor, Booster"
   ]
  },
  {
   "cell_type": "code",
   "execution_count": null,
   "metadata": {
    "collapsed": true
   },
   "outputs": [],
   "source": [
    "df_t = pd.read_csv('/home/agi/Desktop/NOMAD/ensembling/train_full.csv')\n",
    "df_s = pd.read_csv('/home/agi/Desktop/NOMAD/ensembling/test_full.csv')\n",
    "\n",
    "X_train = nutils.drop_features(df_t)\n",
    "X_submit = nutils.drop_features_s(df_s)\n",
    "y_form = df_t[\"formation_energy_ev_natom\"]\n",
    "y_band = df_t[\"bandgap_energy_ev\"]"
   ]
  },
  {
   "cell_type": "code",
   "execution_count": null,
   "metadata": {
    "collapsed": true
   },
   "outputs": [],
   "source": [
    "params1={\n",
    "    'learning_rate': 0.005,\n",
    "    'n_jobs': 3,\n",
    "    'n_estimators': 1804,\n",
    "    'gamma': 0.0,\n",
    "    'subsample': 0.222159,\n",
    "    'colsample_bytree': 0.5359,\n",
    "    'colsample_bylevel': 0.19958,\n",
    "    'max_delta_step': 64,\n",
    "    'max_depth': 28,\n",
    "    'min_child_weight': 10,\n",
    "    'reg_lambda': 0.33038,\n",
    "    'silent': True\n",
    "}\n",
    "\n",
    "params2={\n",
    "    'learning_rate': 0.005,\n",
    "    'n_jobs': 3,\n",
    "    'n_estimators': 2386,\n",
    "    'gamma': 0.0,\n",
    "    'subsample': 0.90919,\n",
    "    'colsample_bytree': 0.59049,\n",
    "    'colsample_bylevel': 0.59404,\n",
    "    'max_delta_step': 99,\n",
    "    'max_depth': 58,\n",
    "    'min_child_weight': 85,\n",
    "    'reg_lambda': 0.031165789070644215,\n",
    "    'silent': True   \n",
    "}\n",
    "\n",
    "params_f = {\n",
    "    'max_depth':6,\n",
    "    'learning_rate':0.05,\n",
    "    'n_estimators':125,\n",
    "    'min_child_weight':20,\n",
    "    'colsample_bytree':0.7,\n",
    "    'colsample_bylevel':0.8,\n",
    "    'reg_lambda':5,\n",
    "    'subsample':0.8\n",
    "}\n",
    "\n",
    "params_b = {\n",
    "    'max_depth':4,\n",
    "    'learning_rate':0.07,\n",
    "    'n_estimators':725,\n",
    "    'min_child_weight':20,\n",
    "    'colsample_bytree':0.7,\n",
    "    'colsample_bylevel':0.9,\n",
    "    'reg_lambda':5,\n",
    "    'subsample':0.8\n",
    "}\n",
    "\n",
    "model_form = XGBRegressor(**params_f)\n",
    "model_band = XGBRegressor(**params_b)"
   ]
  },
  {
   "cell_type": "code",
   "execution_count": null,
   "metadata": {},
   "outputs": [],
   "source": [
    "k_fold = KFold(n_splits=10, random_state=7)\n",
    "objective  = make_scorer(nutils.rmsle, greater_is_better=False)\n",
    "\n",
    "scores_form = cross_val_score(model_form, X_train, y_form, scoring=objective, cv=k_fold)\n",
    "scores_band = cross_val_score(model_band, X_train, y_band, scoring=objective, cv=k_fold)\n",
    "\n",
    "rmse_scores = -scores_form - scores_band\n",
    "nutils.display_scores(rmse_scores / 2)"
   ]
  },
  {
   "cell_type": "code",
   "execution_count": null,
   "metadata": {
    "collapsed": true
   },
   "outputs": [],
   "source": [
    "model_form.fit(X_train, y_form)\n",
    "model_band.fit(X_train, y_band)\n",
    "\n",
    "submit_pred_form = model_form.predict(X_submit)\n",
    "submit_pred_band = model_band.predict(X_submit)\n",
    "\n",
    "#print(model_form._Booster)\n",
    "\n",
    "#model_form._Booster.save_model('/home/agi/Desktop/NOMAD/ensembling/xgb_models/xgb_form_model1')\n",
    "#model_band._Booster.save_model('/home/agi/Desktop/NOMAD/ensembling/xgb_models/xgb_band_model1')\n",
    "\n",
    "#booster = Booster()\n",
    "#booster.load_model('./model.xgb')\n",
    "#regressor._Booster = booster\n",
    "#clf.predict(...)"
   ]
  },
  {
   "cell_type": "code",
   "execution_count": null,
   "metadata": {
    "collapsed": true
   },
   "outputs": [],
   "source": [
    "# Build submission .csv\n",
    "submission = np.concatenate((submit_pred_form.reshape(600,1), submit_pred_band.reshape(600,1)), axis=1)\n",
    "submit_df = pd.DataFrame(submission, columns=['formation_energy_ev_natom', \"bandgap_energy_ev\"])\n",
    "submit_df[submit_df < 0] = 0\n",
    "submit_df.insert(0, 'id', range(1, 601))\n",
    "\n",
    "# Save to file\n",
    "submit_df.to_csv(\"/home/agi/Desktop/NOMAD/ensembling/subs/xgb_2.csv\", index=False)"
   ]
  }
 ],
 "metadata": {
  "kernelspec": {
   "display_name": "Python 3",
   "language": "python",
   "name": "python3"
  },
  "language_info": {
   "codemirror_mode": {
    "name": "ipython",
    "version": 3
   },
   "file_extension": ".py",
   "mimetype": "text/x-python",
   "name": "python",
   "nbconvert_exporter": "python",
   "pygments_lexer": "ipython3",
   "version": "3.6.3"
  }
 },
 "nbformat": 4,
 "nbformat_minor": 2
}
