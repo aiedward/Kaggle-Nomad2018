{
 "cells": [
  {
   "cell_type": "code",
   "execution_count": null,
   "metadata": {
    "collapsed": true
   },
   "outputs": [],
   "source": [
    "import pandas as pd\n",
    "import numpy as np\n",
    "import NUTILS as nutils\n",
    "from sklearn.metrics import mean_squared_error, make_scorer\n",
    "from sklearn.model_selection import cross_val_score\n",
    "from sklearn.model_selection import KFold\n",
    "from sklearn.ensemble import BaggingRegressor\n",
    "from lightgbm import LGBMRegressor\n",
    "from xgboost import XGBRegressor\n",
    "from catboost import CatBoostRegressor"
   ]
  },
  {
   "cell_type": "code",
   "execution_count": null,
   "metadata": {
    "collapsed": true
   },
   "outputs": [],
   "source": [
    "df_t = pd.read_csv('/home/agi/Desktop/NOMAD/ensembling/train_full.csv')\n",
    "df_s = pd.read_csv('/home/agi/Desktop/NOMAD/ensembling/test_full.csv')\n",
    "\n",
    "X_train = nutils.drop_features(df_t)\n",
    "X_submit = nutils.drop_features_s(df_s)\n",
    "y_form = df_t[\"formation_energy_ev_natom\"]\n",
    "y_band = df_t[\"bandgap_energy_ev\"]"
   ]
  },
  {
   "cell_type": "code",
   "execution_count": null,
   "metadata": {},
   "outputs": [],
   "source": [
    "# LightGBM models\n",
    "params1 = {\n",
    "    'num_leaves': 7,\n",
    "    'objective': 'regression',\n",
    "    'min_data_in_leaf': 18,\n",
    "    'learning_rate': 0.04,\n",
    "    'feature_fraction': 0.93,\n",
    "    'bagging_fraction': 0.93,\n",
    "    'bagging_freq': 1,\n",
    "    'metric': 'l2',\n",
    "    'num_threads': 1,\n",
    "    'verbose': 0\n",
    "}\n",
    "\n",
    "params2 = {\n",
    "    'num_leaves': 8,\n",
    "    'objective': 'regression',\n",
    "    'min_data_in_leaf': 18,\n",
    "    'learning_rate': 0.04,\n",
    "    'feature_fraction': 0.93,\n",
    "    'bagging_fraction': 0.93,\n",
    "    'bagging_freq': 1,\n",
    "    'metric': 'l2',\n",
    "    'num_threads': 1,\n",
    "    'verbose': 0\n",
    "}\n",
    "\n",
    "boost_rounds_form = 230\n",
    "boost_rounds_band = 721\n",
    "\n",
    "lgbm_f = LGBMRegressor(**params1, num_boost_round=boost_rounds_form)\n",
    "lgbm_b = LGBMRegressor(**params2, num_boost_round=boost_rounds_band)\n",
    "\n",
    "lgbm_bag1 = BaggingRegressor(base_estimator=lgbm_f, n_estimators=30)\n",
    "lgbm_bag2 = BaggingRegressor(base_estimator=lgbm_b, n_estimators=30)\n",
    "\n",
    "k_fold = KFold(n_splits=10, random_state=7)\n",
    "objective  = make_scorer(nutils.rmsle, greater_is_better=False)\n",
    "\n",
    "\n",
    "scores_form = cross_val_score(lgbm_bag1, X_train, y_form, scoring=objective, cv=k_fold)\n",
    "scores_band = cross_val_score(lgbm_bag2, X_train, y_band, scoring=objective, cv=k_fold)\n",
    "\n",
    "rmse_scores = -scores_form - scores_band\n",
    "nutils.display_scores(rmse_scores / 2)"
   ]
  },
  {
   "cell_type": "code",
   "execution_count": null,
   "metadata": {},
   "outputs": [],
   "source": [
    "lgbm_bag1.fit(X_train, y_form)\n",
    "print('fitted formation')\n",
    "lgbm_bag2.fit(X_train, y_band)\n",
    "print('fitted band')\n",
    "\n",
    "submit_pred_form = lgbm_bag1.predict(X_submit)\n",
    "print('submi form')\n",
    "submit_pred_band = lgbm_bag2.predict(X_submit)\n",
    "print('submit band')\n",
    "\n",
    "# Build submission .csv\n",
    "submission = np.concatenate((submit_pred_form.reshape(600,1), submit_pred_band.reshape(600,1)), axis=1)\n",
    "submit_df = pd.DataFrame(submission, columns=['formation_energy_ev_natom', \"bandgap_energy_ev\"])\n",
    "submit_df[submit_df < 0] = 0\n",
    "submit_df.insert(0, 'id', range(1, 601))\n",
    "\n",
    "# Save to file\n",
    "submit_df.to_csv(\"/home/agi/Desktop/NOMAD/ensembling/subs/bag_1.csv\", index=False)"
   ]
  },
  {
   "cell_type": "code",
   "execution_count": null,
   "metadata": {},
   "outputs": [],
   "source": [
    "params_f = {\n",
    "    'max_depth':6,\n",
    "    'learning_rate':0.05,\n",
    "    'n_estimators':125,\n",
    "    'min_child_weight':20,\n",
    "    'colsample_bytree':0.7,\n",
    "    'colsample_bylevel':0.8,\n",
    "    'reg_lambda':5,\n",
    "    'subsample':0.8\n",
    "}\n",
    "\n",
    "params_b = {\n",
    "    'max_depth':4,\n",
    "    'learning_rate':0.07,\n",
    "    'n_estimators':725,\n",
    "    'min_child_weight':20,\n",
    "    'colsample_bytree':0.7,\n",
    "    'colsample_bylevel':0.9,\n",
    "    'reg_lambda':5,\n",
    "    'subsample':0.8\n",
    "}\n",
    "\n",
    "xgb_f = XGBRegressor(**params_f)\n",
    "xgb_b = XGBRegressor(**params_b)\n",
    "\n",
    "xgb_bag1 = BaggingRegressor(base_estimator=xgb_f, n_estimators=30)\n",
    "xgb_bag2 = BaggingRegressor(base_estimator=xgb_b, n_estimators=30)\n",
    "\n",
    "k_fold = KFold(n_splits=10, random_state=7)\n",
    "objective  = make_scorer(nutils.rmsle, greater_is_better=False)\n",
    "\n",
    "\n",
    "scores_form = cross_val_score(xgb_bag1, X_train, y_form, scoring=objective, cv=k_fold)\n",
    "scores_band = cross_val_score(xgb_bag2, X_train, y_band, scoring=objective, cv=k_fold)\n",
    "\n",
    "rmse_scores = -scores_form - scores_band\n",
    "nutils.display_scores(rmse_scores / 2)"
   ]
  },
  {
   "cell_type": "code",
   "execution_count": null,
   "metadata": {},
   "outputs": [],
   "source": [
    "xgb_bag1.fit(X_train, y_form)\n",
    "print('fitted formation')\n",
    "xgb_bag2.fit(X_train, y_band)\n",
    "print('fitted band')\n",
    "\n",
    "submit_pred_form = xgb_bag1.predict(X_submit)\n",
    "print('submi form')\n",
    "submit_pred_band = xgb_bag2.predict(X_submit)\n",
    "print('submit band')\n",
    "\n",
    "# Build submission .csv\n",
    "submission = np.concatenate((submit_pred_form.reshape(600,1), submit_pred_band.reshape(600,1)), axis=1)\n",
    "submit_df = pd.DataFrame(submission, columns=['formation_energy_ev_natom', \"bandgap_energy_ev\"])\n",
    "submit_df[submit_df < 0] = 0\n",
    "submit_df.insert(0, 'id', range(1, 601))\n",
    "\n",
    "# Save to file\n",
    "submit_df.to_csv(\"/home/agi/Desktop/NOMAD/ensembling/subs/bag_2.csv\", index=False)"
   ]
  },
  {
   "cell_type": "code",
   "execution_count": null,
   "metadata": {
    "collapsed": true
   },
   "outputs": [],
   "source": [
    "params = {\n",
    "    'logging_level': 'Silent'\n",
    "}\n",
    "\n",
    "cb_f = CatBoostRegressor(**params)\n",
    "cb_b = CatBoostRegressor(**params)"
   ]
  },
  {
   "cell_type": "code",
   "execution_count": null,
   "metadata": {
    "collapsed": true
   },
   "outputs": [],
   "source": []
  }
 ],
 "metadata": {
  "kernelspec": {
   "display_name": "Python 3",
   "language": "python",
   "name": "python3"
  },
  "language_info": {
   "codemirror_mode": {
    "name": "ipython",
    "version": 3
   },
   "file_extension": ".py",
   "mimetype": "text/x-python",
   "name": "python",
   "nbconvert_exporter": "python",
   "pygments_lexer": "ipython3",
   "version": "3.6.3"
  }
 },
 "nbformat": 4,
 "nbformat_minor": 2
}
