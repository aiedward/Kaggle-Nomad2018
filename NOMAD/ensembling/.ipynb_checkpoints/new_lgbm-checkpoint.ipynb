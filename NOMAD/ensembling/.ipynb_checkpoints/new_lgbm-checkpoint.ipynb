{
 "cells": [
  {
   "cell_type": "code",
   "execution_count": null,
   "metadata": {
    "collapsed": true
   },
   "outputs": [],
   "source": [
    "import pandas as pd\n",
    "import numpy as np\n",
    "import NUTILS as nutils\n",
    "import lightgbm as lgb\n",
    "from sklearn.metrics import mean_squared_error, make_scorer\n",
    "from sklearn.model_selection import cross_val_score\n",
    "from sklearn.model_selection import KFold\n",
    "from lightgbm import LGBMRegressor"
   ]
  },
  {
   "cell_type": "code",
   "execution_count": null,
   "metadata": {
    "collapsed": true
   },
   "outputs": [],
   "source": [
    "df_t = pd.read_csv('/home/agi/Desktop/NOMAD/ensembling/train_full.csv')\n",
    "df_s = pd.read_csv('/home/agi/Desktop/NOMAD/ensembling/test_full.csv')\n",
    "\n",
    "X_train = nutils.drop_features(df_t)\n",
    "X_submit = nutils.drop_features_s(df_s)\n",
    "y_form = df_t[\"formation_energy_ev_natom\"]\n",
    "y_band = df_t[\"bandgap_energy_ev\"]"
   ]
  },
  {
   "cell_type": "code",
   "execution_count": null,
   "metadata": {
    "collapsed": true
   },
   "outputs": [],
   "source": [
    "params1 = {\n",
    "    'num_leaves': 7,\n",
    "    'objective': 'regression',\n",
    "    'min_data_in_leaf': 18,\n",
    "    'learning_rate': 0.04,\n",
    "    'feature_fraction': 0.93,\n",
    "    'bagging_fraction': 0.93,\n",
    "    'bagging_freq': 1,\n",
    "    'metric': 'l2',\n",
    "    'num_threads': 1,\n",
    "    'verbose': 0\n",
    "}\n",
    "\n",
    "params2 = {\n",
    "    'num_leaves': 8,\n",
    "    'objective': 'regression',\n",
    "    'min_data_in_leaf': 18,\n",
    "    'learning_rate': 0.04,\n",
    "    'feature_fraction': 0.93,\n",
    "    'bagging_fraction': 0.93,\n",
    "    'bagging_freq': 1,\n",
    "    'metric': 'l2',\n",
    "    'num_threads': 1,\n",
    "    'verbose': 0\n",
    "}\n",
    "\n",
    "boost_rounds_form = 230\n",
    "boost_rounds_band = 721\n",
    "\n",
    "model_form = LGBMRegressor(**params1, num_boost_round=boost_rounds_form)\n",
    "model_band = LGBMRegressor(**params2, num_boost_round=boost_rounds_band)"
   ]
  },
  {
   "cell_type": "code",
   "execution_count": null,
   "metadata": {},
   "outputs": [],
   "source": [
    "k_fold = KFold(n_splits=10, random_state=7)\n",
    "objective  = make_scorer(nutils.rmsle, greater_is_better=False)\n",
    "\n",
    "scores_form = cross_val_score(model_form, X_train, y_form, scoring=objective, cv=k_fold)\n",
    "scores_band = cross_val_score(model_band, X_train, y_band, scoring=objective, cv=k_fold)\n",
    "\n",
    "rmse_scores = -scores_form - scores_band\n",
    "nutils.display_scores(rmse_scores / 2)"
   ]
  },
  {
   "cell_type": "code",
   "execution_count": null,
   "metadata": {
    "collapsed": true
   },
   "outputs": [],
   "source": [
    "lgb_train_form = lgb.Dataset(X_train, y_form)\n",
    "lgb_train_band = lgb.Dataset(X_train, y_band)\n",
    "\n",
    "gbm_form = lgb.train(\n",
    "                params1,\n",
    "                lgb_train_form,\n",
    "                num_boost_round=boost_rounds_form)\n",
    "\n",
    "gbm_band = lgb.train(\n",
    "                params2,\n",
    "                lgb_train_band,\n",
    "                num_boost_round=boost_rounds_band)\n",
    "\n",
    "\n",
    "submit_pred_form = gbm_form.predict(X_submit)\n",
    "submit_pred_band = gbm_band.predict(X_submit)\n",
    "\n",
    "gbm_form.save_model('/home/agi/Desktop/NOMAD/ensembling/lgbm_models/lgbm_form_model1')\n",
    "gbm_band.save_model('/home/agi/Desktop/NOMAD/ensembling/lgbm_models/lgbm_band_model1')"
   ]
  },
  {
   "cell_type": "code",
   "execution_count": null,
   "metadata": {
    "collapsed": true
   },
   "outputs": [],
   "source": [
    "submission = np.concatenate((submit_pred_form.reshape(600,1), submit_pred_band.reshape(600,1)), axis=1)\n",
    "submit_df = pd.DataFrame(submission, columns=['formation_energy_ev_natom', \"bandgap_energy_ev\"])\n",
    "submit_df[submit_df < 0] = 0\n",
    "submit_df.insert(0, 'id', range(1, 601))\n",
    "\n",
    "submit_df.to_csv(\"/home/agi/Desktop/NOMAD/ensembling/subs/lgbm_1.csv\", index=False)"
   ]
  }
 ],
 "metadata": {
  "kernelspec": {
   "display_name": "Python 3",
   "language": "python",
   "name": "python3"
  },
  "language_info": {
   "codemirror_mode": {
    "name": "ipython",
    "version": 3
   },
   "file_extension": ".py",
   "mimetype": "text/x-python",
   "name": "python",
   "nbconvert_exporter": "python",
   "pygments_lexer": "ipython3",
   "version": "3.6.3"
  }
 },
 "nbformat": 4,
 "nbformat_minor": 2
}
