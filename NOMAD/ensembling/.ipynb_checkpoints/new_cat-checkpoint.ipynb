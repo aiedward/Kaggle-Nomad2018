{
 "cells": [
  {
   "cell_type": "code",
   "execution_count": null,
   "metadata": {
    "collapsed": true
   },
   "outputs": [],
   "source": [
    "import pandas as pd\n",
    "import numpy as np\n",
    "import NUTILS as nutils\n",
    "from sklearn.metrics import mean_squared_error, make_scorer\n",
    "from sklearn.model_selection import cross_val_score\n",
    "from sklearn.model_selection import KFold\n",
    "from catboost import Pool, CatBoostRegressor"
   ]
  },
  {
   "cell_type": "code",
   "execution_count": null,
   "metadata": {
    "collapsed": true
   },
   "outputs": [],
   "source": [
    "df_t = pd.read_csv('/home/agi/Desktop/NOMAD/ensembling/train_full.csv')\n",
    "df_s = pd.read_csv('/home/agi/Desktop/NOMAD/ensembling/test_full.csv')\n",
    "\n",
    "X_train = nutils.drop_features(df_t)\n",
    "X_submit = nutils.drop_features_s(df_s)\n",
    "y_form = df_t[\"formation_energy_ev_natom\"]\n",
    "y_band = df_t[\"bandgap_energy_ev\"]"
   ]
  },
  {
   "cell_type": "code",
   "execution_count": null,
   "metadata": {
    "collapsed": true
   },
   "outputs": [],
   "source": [
    "params = {\n",
    "    'logging_level': 'Silent'\n",
    "}\n",
    "\n",
    "model_form = CatBoostRegressor(**params)\n",
    "model_band = CatBoostRegressor(**params)"
   ]
  },
  {
   "cell_type": "code",
   "execution_count": null,
   "metadata": {},
   "outputs": [],
   "source": [
    "k_fold = KFold(n_splits=10, random_state=7)\n",
    "objective  = make_scorer(nutils.rmsle, greater_is_better=False)\n",
    "\n",
    "scores_form = cross_val_score(model_form, X_train, y_form, scoring=objective, cv=k_fold)\n",
    "scores_band = cross_val_score(model_band, X_train, y_band, scoring=objective, cv=k_fold)\n",
    "\n",
    "rmse_scores = -scores_form - scores_band\n",
    "nutils.display_scores(rmse_scores / 2)"
   ]
  },
  {
   "cell_type": "code",
   "execution_count": null,
   "metadata": {
    "collapsed": true
   },
   "outputs": [],
   "source": [
    "model_form.fit(X_train, y_form, cat_features=[0])\n",
    "model_band.fit(X_train, y_band, cat_features=[0])\n",
    "\n",
    "submit_pred_form = model_form.predict(X_submit)\n",
    "submit_pred_band = model_band.predict(X_submit)\n",
    "\n",
    "model_form.save_model('/home/agi/Desktop/NOMAD/ensembling/cat_models/cat_form_model1')\n",
    "model_band.save_model('/home/agi/Desktop/NOMAD/ensembling/cat_models/cat_band_model1')"
   ]
  },
  {
   "cell_type": "code",
   "execution_count": null,
   "metadata": {
    "collapsed": true
   },
   "outputs": [],
   "source": [
    "# Build submission .csv\n",
    "submission = np.concatenate((submit_pred_form.reshape(600,1), submit_pred_band.reshape(600,1)), axis=1)\n",
    "submit_df = pd.DataFrame(submission, columns=['formation_energy_ev_natom', \"bandgap_energy_ev\"])\n",
    "submit_df[submit_df < 0] = 0\n",
    "submit_df.insert(0, 'id', range(1, 601))\n",
    "\n",
    "# Save to file\n",
    "submit_df.to_csv(\"/home/agi/Desktop/NOMAD/ensembling/subs/cat_1.csv\", index=False)"
   ]
  }
 ],
 "metadata": {
  "kernelspec": {
   "display_name": "Python 3",
   "language": "python",
   "name": "python3"
  },
  "language_info": {
   "codemirror_mode": {
    "name": "ipython",
    "version": 3
   },
   "file_extension": ".py",
   "mimetype": "text/x-python",
   "name": "python",
   "nbconvert_exporter": "python",
   "pygments_lexer": "ipython3",
   "version": "3.6.3"
  }
 },
 "nbformat": 4,
 "nbformat_minor": 2
}
