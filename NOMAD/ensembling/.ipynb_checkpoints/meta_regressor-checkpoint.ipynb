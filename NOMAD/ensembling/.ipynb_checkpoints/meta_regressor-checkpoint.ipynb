{
 "cells": [
  {
   "cell_type": "code",
   "execution_count": null,
   "metadata": {
    "collapsed": true
   },
   "outputs": [],
   "source": [
    "import pandas as pd\n",
    "import numpy as np\n",
    "import NUTILS as nutils\n",
    "from sklearn.metrics import mean_squared_error, make_scorer\n",
    "from sklearn.model_selection import cross_val_score\n",
    "from sklearn.model_selection import KFold\n",
    "\n",
    "from lightgbm import LGBMRegressor\n",
    "from xgboost import XGBRegressor\n",
    "from catboost import CatBoostRegressor\n",
    "from sklearn.neighbors import KNeighborsRegressor\n",
    "from sklearn.ensemble import GradientBoostingRegressor\n",
    "from sklearn.ensemble import RandomForestRegressor\n",
    "from sklearn.svm import SVR\n",
    "from sklearn.ensemble import ExtraTreesRegressor\n",
    "from sklearn.linear_model import Ridge\n",
    "from sklearn.linear_model import LinearRegression\n",
    "from mlxtend.regressor import StackingRegressor\n",
    "from sklearn.ensemble import BaggingRegressor"
   ]
  },
  {
   "cell_type": "code",
   "execution_count": null,
   "metadata": {
    "collapsed": true
   },
   "outputs": [],
   "source": [
    "df_t = pd.read_csv('/home/agi/Desktop/NOMAD/ensembling/train_full.csv')\n",
    "df_s = pd.read_csv('/home/agi/Desktop/NOMAD/ensembling/test_full.csv')\n",
    "\n",
    "X_train = nutils.drop_features(df_t)\n",
    "X_submit = nutils.drop_features_s(df_s)\n",
    "y_form = df_t[\"formation_energy_ev_natom\"]\n",
    "y_band = df_t[\"bandgap_energy_ev\"]"
   ]
  },
  {
   "cell_type": "code",
   "execution_count": null,
   "metadata": {
    "collapsed": true
   },
   "outputs": [],
   "source": [
    "base_models = []"
   ]
  },
  {
   "cell_type": "code",
   "execution_count": null,
   "metadata": {
    "collapsed": true
   },
   "outputs": [],
   "source": [
    "# LightGBM models\n",
    "params1 = {\n",
    "    'num_leaves': 7,\n",
    "    'objective': 'regression',\n",
    "    'min_data_in_leaf': 18,\n",
    "    'learning_rate': 0.04,\n",
    "    'feature_fraction': 0.93,\n",
    "    'bagging_fraction': 0.93,\n",
    "    'bagging_freq': 1,\n",
    "    'metric': 'l2',\n",
    "    'num_threads': 1,\n",
    "    'verbose': 0\n",
    "}\n",
    "\n",
    "params2 = {\n",
    "    'num_leaves': 8,\n",
    "    'objective': 'regression',\n",
    "    'min_data_in_leaf': 18,\n",
    "    'learning_rate': 0.04,\n",
    "    'feature_fraction': 0.93,\n",
    "    'bagging_fraction': 0.93,\n",
    "    'bagging_freq': 1,\n",
    "    'metric': 'l2',\n",
    "    'num_threads': 1,\n",
    "    'verbose': 0\n",
    "}\n",
    "\n",
    "boost_rounds_form = 230\n",
    "boost_rounds_band = 721\n",
    "\n",
    "base_models.append(LGBMRegressor(**params1, num_boost_round=boost_rounds_form))\n",
    "base_models.append(LGBMRegressor(**params2, num_boost_round=boost_rounds_band))"
   ]
  },
  {
   "cell_type": "code",
   "execution_count": null,
   "metadata": {
    "collapsed": true
   },
   "outputs": [],
   "source": [
    "# XGBoost models\n",
    "params1={\n",
    "    'max_depth':6,\n",
    "    'learning_rate':0.05,\n",
    "    'n_estimators':125,\n",
    "    'min_child_weight':20,\n",
    "    'colsample_bytree':0.7,\n",
    "    'colsample_bylevel':0.8,\n",
    "    'reg_lambda':5,\n",
    "    'subsample':0.8\n",
    "}\n",
    "\n",
    "params2={\n",
    "    'max_depth':4,\n",
    "    'learning_rate':0.07,\n",
    "    'n_estimators':725,\n",
    "    'min_child_weight':20,\n",
    "    'colsample_bytree':0.7,\n",
    "    'colsample_bylevel':0.9,\n",
    "    'reg_lambda':5,\n",
    "    'subsample':0.8\n",
    "}\n",
    "\n",
    "base_models.append(XGBRegressor(**params1))\n",
    "base_models.append(XGBRegressor(**params2))"
   ]
  },
  {
   "cell_type": "code",
   "execution_count": null,
   "metadata": {
    "collapsed": true
   },
   "outputs": [],
   "source": [
    "params = {\n",
    "    'logging_level': 'Silent'\n",
    "}\n",
    "\n",
    "base_models.append(CatBoostRegressor(**params))\n",
    "#base_models.append(CatBoostRegressor(**params))"
   ]
  },
  {
   "cell_type": "code",
   "execution_count": null,
   "metadata": {
    "collapsed": true
   },
   "outputs": [],
   "source": [
    "base_models.append(KNeighborsRegressor(n_neighbors=4))\n",
    "base_models.append(KNeighborsRegressor(n_neighbors=20))\n",
    "#base_models.append(KNeighborsRegressor(n_neighbors=100))"
   ]
  },
  {
   "cell_type": "code",
   "execution_count": null,
   "metadata": {
    "collapsed": true
   },
   "outputs": [],
   "source": [
    "base_models.append(GradientBoostingRegressor(n_estimators=20))\n",
    "base_models.append(GradientBoostingRegressor(n_estimators=200))\n",
    "#base_models.append(GradientBoostingRegressor(n_estimators=1000))"
   ]
  },
  {
   "cell_type": "code",
   "execution_count": null,
   "metadata": {
    "collapsed": true
   },
   "outputs": [],
   "source": [
    "base_models.append(RandomForestRegressor(n_estimators=20))\n",
    "base_models.append(RandomForestRegressor(n_estimators=200))\n",
    "#base_models.append(RandomForestRegressor(n_estimators=1000))"
   ]
  },
  {
   "cell_type": "code",
   "execution_count": null,
   "metadata": {
    "collapsed": true
   },
   "outputs": [],
   "source": [
    "base_models.append(SVR(kernel='rbf'))\n",
    "#base_models.append(SVR(kernel='poly'))\n",
    "#base_models.append(SVR(kernel='sigmoid'))"
   ]
  },
  {
   "cell_type": "code",
   "execution_count": null,
   "metadata": {
    "collapsed": true
   },
   "outputs": [],
   "source": [
    "base_models.append(ExtraTreesRegressor(n_estimators=200))\n",
    "#base_models.append(ExtraTreesRegressor(n_estimators=500))\n",
    "#base_models.append(ExtraTreesRegressor(n_estimators=1000))"
   ]
  },
  {
   "cell_type": "code",
   "execution_count": null,
   "metadata": {
    "collapsed": true
   },
   "outputs": [],
   "source": [
    "base_models.append(Ridge())"
   ]
  },
  {
   "cell_type": "code",
   "execution_count": null,
   "metadata": {
    "collapsed": true
   },
   "outputs": [],
   "source": [
    "model_pre1 = StackingRegressor(regressors=base_models, \n",
    "                         meta_regressor=Ridge())\n",
    "\n",
    "model_pre2 = StackingRegressor(regressors=base_models, \n",
    "                          meta_regressor=KNeighborsRegressor())\n",
    "\n",
    "model_pre3 = StackingRegressor(regressors=base_models, \n",
    "                          meta_regressor=CatBoostRegressor())\n",
    "\n",
    "model_form = StackingRegressor(regressors=[model_pre1, model_pre2, model_pre3], \n",
    "                         meta_regressor=BaggingRegressor(n_estimators=100))\n",
    "\n",
    "model_band = StackingRegressor(regressors=[model_pre1, model_pre2, model_pre3], \n",
    "                         meta_regressor=BaggingRegressor(n_estimators=100))"
   ]
  },
  {
   "cell_type": "code",
   "execution_count": null,
   "metadata": {},
   "outputs": [],
   "source": [
    "k_fold = KFold(n_splits=5, random_state=7)\n",
    "objective  = make_scorer(nutils.rmsle, greater_is_better=False)\n",
    "\n",
    "\n",
    "scores_form = cross_val_score(model_form, nutils.encode(X_train), y_form, scoring=objective, cv=k_fold)\n",
    "scores_band = cross_val_score(model_band, nutils.encode(X_train), y_band, scoring=objective, cv=k_fold)\n",
    "\n",
    "rmse_scores = -scores_form - scores_band\n",
    "nutils.display_scores(rmse_scores / 2)"
   ]
  },
  {
   "cell_type": "code",
   "execution_count": null,
   "metadata": {},
   "outputs": [],
   "source": [
    "model_form.fit(X_train, y_form)\n",
    "print('fitted formation')\n",
    "model_band.fit(X_train, y_band)\n",
    "print('fitted band')\n",
    "\n",
    "submit_pred_form = model_form.predict(X_submit)\n",
    "print('submi form')\n",
    "submit_pred_band = model_band.predict(X_submit)\n",
    "print('submit band')\n",
    "\n",
    "# Build submission .csv\n",
    "submission = np.concatenate((submit_pred_form.reshape(600,1), submit_pred_band.reshape(600,1)), axis=1)\n",
    "submit_df = pd.DataFrame(submission, columns=['formation_energy_ev_natom', \"bandgap_energy_ev\"])\n",
    "submit_df[submit_df < 0] = 0\n",
    "submit_df.insert(0, 'id', range(1, 601))\n",
    "\n",
    "# Save to file\n",
    "submit_df.to_csv(\"/home/agi/Desktop/NOMAD/ensembling/subs/bag_1.csv\", index=False)"
   ]
  }
 ],
 "metadata": {
  "kernelspec": {
   "display_name": "Python 3",
   "language": "python",
   "name": "python3"
  },
  "language_info": {
   "codemirror_mode": {
    "name": "ipython",
    "version": 3
   },
   "file_extension": ".py",
   "mimetype": "text/x-python",
   "name": "python",
   "nbconvert_exporter": "python",
   "pygments_lexer": "ipython3",
   "version": "3.6.3"
  }
 },
 "nbformat": 4,
 "nbformat_minor": 2
}
