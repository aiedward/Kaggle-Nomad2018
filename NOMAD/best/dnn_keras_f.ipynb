{
 "cells": [
  {
   "cell_type": "code",
   "execution_count": null,
   "metadata": {},
   "outputs": [],
   "source": [
    "import pandas as pd\n",
    "import numpy as np\n",
    "import tensorflow as tf\n",
    "from sklearn.model_selection import train_test_split\n",
    "import NUTILS as nutils\n",
    "import matplotlib.pyplot as plt"
   ]
  },
  {
   "cell_type": "code",
   "execution_count": null,
   "metadata": {
    "collapsed": true
   },
   "outputs": [],
   "source": [
    "# Prepare data sets\n",
    "df_t = nutils.load_data('./train_prepared.csv')\n",
    "df_s = nutils.load_data('./test_prepared.csv')\n",
    "\n",
    "train_set, test_set = train_test_split(df_t, test_size=0.2, random_state=42)\n",
    "\n",
    "X_full = nutils.encode(nutils.drop_features(df_t))\n",
    "y_form_full = df_t[\"formation_energy_ev_natom\"]\n",
    "y_band_full = df_t[\"bandgap_energy_ev\"]\n",
    "\n",
    "X_train = nutils.encode(nutils.drop_features(train_set))\n",
    "X_test  = nutils.encode(nutils.drop_features(test_set))\n",
    "X_submt = nutils.encode(nutils.drop_features(df_s))\n",
    "                       \n",
    "y_form = train_set[\"formation_energy_ev_natom\"]\n",
    "y_band = train_set[\"bandgap_energy_ev\"]\n",
    "                       \n",
    "y_form_test = test_set[\"formation_energy_ev_natom\"]\n",
    "y_band_test = test_set[\"bandgap_energy_ev\"]\n",
    "\n",
    "y_comb = np.column_stack((y_form_full.values, y_band_full.values))\n",
    "y_comb_train = np.column_stack((y_form.values, y_band.values))\n",
    "y_comb_test = np.column_stack((y_form_test.values, y_band_test.values))"
   ]
  },
  {
   "cell_type": "code",
   "execution_count": null,
   "metadata": {
    "collapsed": true
   },
   "outputs": [],
   "source": [
    "import keras\n",
    "from keras.models import Sequential\n",
    "from keras.layers import Dense, Dropout, Activation, BatchNormalization, PReLU\n",
    "from keras.optimizers import SGD\n",
    "import keras.losses as losses\n",
    "from keras import regularizers\n",
    "\n",
    "\n",
    "# For custom metrics\n",
    "import keras.backend as K\n",
    "    \n",
    "def rmsle(y_actual, y_pred):\n",
    "    return K.sqrt(losses.mean_squared_logarithmic_error(y_actual, y_pred))"
   ]
  },
  {
   "cell_type": "code",
   "execution_count": null,
   "metadata": {},
   "outputs": [],
   "source": [
    "keras_callbacks = [\n",
    "    keras.callbacks.TensorBoard(\n",
    "        log_dir='my_log_dir',\n",
    "        histogram_freq=1,\n",
    "        embeddings_freq=1\n",
    "    )\n",
    "]\n",
    "\n",
    "act = keras.layers.advanced_activations.PReLU(weights=None, alpha_initializer=\"zero\")\n",
    "\n",
    "model_f = Sequential()\n",
    "#model_f.add(Dense(300, activation='elu', kernel_initializer='he_uniform', kernel_regularizer=None, input_dim=X_train.shape[1]))\n",
    "#model_f.add(BatchNormalization(axis=-1, momentum=0.99, epsilon=0.001, center=True, scale=True))\n",
    "#model_f.add(Dropout(0.10))\n",
    "\n",
    "model_f.add(Dense(300, kernel_initializer='he_uniform', kernel_regularizer=None, input_dim=X_train.shape[1]))\n",
    "model_f.add(keras.layers.advanced_activations.PReLU(weights=None, alpha_initializer=\"zero\"))\n",
    "model_f.add(BatchNormalization(axis=-1, momentum=0.99, epsilon=0.001, center=True, scale=True))\n",
    "model_f.add(Dropout(0.10))\n",
    "model_f.add(Dense(300, kernel_initializer='he_uniform', kernel_regularizer=None))\n",
    "model_f.add(keras.layers.advanced_activations.PReLU(weights=None, alpha_initializer=\"zero\"))\n",
    "model_f.add(BatchNormalization(axis=-1, momentum=0.99, epsilon=0.001, center=True, scale=True))\n",
    "model_f.add(Dropout(0.10))\n",
    "model_f.add(Dense(300, kernel_initializer='he_uniform', kernel_regularizer=None))\n",
    "model_f.add(keras.layers.advanced_activations.PReLU(weights=None, alpha_initializer=\"zero\"))\n",
    "model_f.add(BatchNormalization(axis=-1, momentum=0.99, epsilon=0.001, center=True, scale=True))\n",
    "model_f.add(Dropout(0.10))\n",
    "model_f.add(Dense(300, kernel_initializer='he_uniform', kernel_regularizer=None))\n",
    "model_f.add(keras.layers.advanced_activations.PReLU(weights=None, alpha_initializer=\"zero\"))\n",
    "model_f.add(BatchNormalization(axis=-1, momentum=0.99, epsilon=0.001, center=True, scale=True))\n",
    "model_f.add(Dropout(0.10))\n",
    "model_f.add(Dense(300, kernel_initializer='he_uniform', kernel_regularizer=None))\n",
    "model_f.add(keras.layers.advanced_activations.PReLU(weights=None, alpha_initializer=\"zero\"))\n",
    "model_f.add(BatchNormalization(axis=-1, momentum=0.99, epsilon=0.001, center=True, scale=True))\n",
    "model_f.add(Dropout(0.10))\n",
    "model_f.add(Dense(300, kernel_initializer='he_uniform', kernel_regularizer=None))\n",
    "model_f.add(keras.layers.advanced_activations.PReLU(weights=None, alpha_initializer=\"zero\"))\n",
    "model_f.add(BatchNormalization(axis=-1, momentum=0.99, epsilon=0.001, center=True, scale=True))\n",
    "model_f.add(Dropout(0.10))\n",
    "model_f.add(Dense(300, kernel_initializer='he_uniform', kernel_regularizer=None))\n",
    "model_f.add(keras.layers.advanced_activations.PReLU(weights=None, alpha_initializer=\"zero\"))\n",
    "model_f.add(BatchNormalization(axis=-1, momentum=0.99, epsilon=0.001, center=True, scale=True))\n",
    "model_f.add(Dropout(0.10))\n",
    "model_f.add(Dense(300, kernel_initializer='he_uniform', kernel_regularizer=None))\n",
    "model_f.add(keras.layers.advanced_activations.PReLU(weights=None, alpha_initializer=\"zero\"))\n",
    "model_f.add(BatchNormalization(axis=-1, momentum=0.99, epsilon=0.001, center=True, scale=True))\n",
    "model_f.add(Dropout(0.10))\n",
    "model_f.add(Dense(300, kernel_initializer='he_uniform', kernel_regularizer=None))\n",
    "model_f.add(keras.layers.advanced_activations.PReLU(weights=None, alpha_initializer=\"zero\"))\n",
    "model_f.add(BatchNormalization(axis=-1, momentum=0.99, epsilon=0.001, center=True, scale=True))\n",
    "model_f.add(Dropout(0.10))\n",
    "model_f.add(Dense(300, kernel_initializer='he_uniform', kernel_regularizer=None))\n",
    "model_f.add(keras.layers.advanced_activations.PReLU(weights=None, alpha_initializer=\"zero\"))\n",
    "model_f.add(BatchNormalization(axis=-1, momentum=0.99, epsilon=0.001, center=True, scale=True))\n",
    "model_f.add(Dropout(0.10))\n",
    "model_f.add(Dense(300, kernel_initializer='he_uniform', kernel_regularizer=None))\n",
    "model_f.add(keras.layers.advanced_activations.PReLU(weights=None, alpha_initializer=\"zero\"))\n",
    "model_f.add(BatchNormalization(axis=-1, momentum=0.99, epsilon=0.001, center=True, scale=True))\n",
    "model_f.add(Dropout(0.10))\n",
    "model_f.add(Dense(300, kernel_initializer='he_uniform', kernel_regularizer=None))\n",
    "model_f.add(keras.layers.advanced_activations.PReLU(weights=None, alpha_initializer=\"zero\"))\n",
    "model_f.add(BatchNormalization(axis=-1, momentum=0.99, epsilon=0.001, center=True, scale=True))\n",
    "model_f.add(Dropout(0.10))\n",
    "model_f.add(Dense(300, kernel_initializer='he_uniform', kernel_regularizer=None))\n",
    "model_f.add(keras.layers.advanced_activations.PReLU(weights=None, alpha_initializer=\"zero\"))\n",
    "model_f.add(BatchNormalization(axis=-1, momentum=0.99, epsilon=0.001, center=True, scale=True))\n",
    "model_f.add(Dropout(0.10))\n",
    "model_f.add(Dense(300, kernel_initializer='he_uniform', kernel_regularizer=None))\n",
    "model_f.add(keras.layers.advanced_activations.PReLU(weights=None, alpha_initializer=\"zero\"))\n",
    "model_f.add(BatchNormalization(axis=-1, momentum=0.99, epsilon=0.001, center=True, scale=True))\n",
    "model_f.add(Dropout(0.10))\n",
    "\n",
    "\n",
    "\n",
    "model_f.add(Dense(2))\n",
    "#sgd = SGD(lr=0.0001, decay=1e-7, momentum=0.9, nesterov=True)\n",
    "\n",
    "#keras.optimizers.Adam(lr=0.002)\n",
    "sgd = SGD(lr=0.002, momentum=0.9)\n",
    "model_f.compile(optimizer=keras.optimizers.Adam(lr=0.002),\n",
    "              loss=losses.mean_absolute_error,\n",
    "              metrics=[rmsle])\n",
    "\n",
    "history_f = model_f.fit(X_full.values, y_comb,\n",
    "              epochs=750,\n",
    "              validation_split=0.2,\n",
    "              batch_size=X_full.shape[0])\n",
    "              #callbacks=keras_callbacks)\n",
    "\n",
    "#score_f = model_f.evaluate(X_test.values, y_comb_test, batch_size=X_full.shape[0])\n",
    "#print(\"Test \", model_f.metrics_names[1], \": \", score_f[1])"
   ]
  },
  {
   "cell_type": "code",
   "execution_count": null,
   "metadata": {
    "collapsed": true
   },
   "outputs": [],
   "source": [
    "from keras.models import load_model\n",
    "model_f.save('k_model0473_1.h5')"
   ]
  },
  {
   "cell_type": "code",
   "execution_count": null,
   "metadata": {},
   "outputs": [],
   "source": [
    "#print(score_f)\n",
    "plt.plot(history_f.history['rmsle'])\n",
    "plt.plot(history_f.history['val_rmsle'])\n",
    "plt.title('model loss')\n",
    "plt.ylabel('rmsle')\n",
    "plt.xlabel('epoch')\n",
    "plt.legend(['train', 'test'], loc='upper left')\n",
    "plt.show()"
   ]
  },
  {
   "cell_type": "code",
   "execution_count": null,
   "metadata": {},
   "outputs": [],
   "source": [
    "plt.plot(history_f.history['loss'])\n",
    "plt.plot(history_f.history['val_loss'])\n",
    "plt.title('model loss')\n",
    "plt.ylabel('loss')\n",
    "plt.xlabel('epoch')\n",
    "plt.legend(['train', 'test'], loc='upper left')\n",
    "plt.show()"
   ]
  },
  {
   "cell_type": "code",
   "execution_count": null,
   "metadata": {
    "collapsed": true
   },
   "outputs": [],
   "source": [
    "submit_pred_form = model_f.predict(X_submt.values)\n",
    "submit_df = pd.DataFrame(submit_pred_form, columns=['formation_energy_ev_natom', \"bandgap_energy_ev\"])\n",
    "submit_df[submit_df < 0] = 0\n",
    "submit_df.insert(0, 'id', range(1, 601))\n",
    "\n",
    "# Save to file\n",
    "submit_df.to_csv(\"./k_dnn_12.csv\", index=False)"
   ]
  }
 ],
 "metadata": {
  "kernelspec": {
   "display_name": "Python 3",
   "language": "python",
   "name": "python3"
  },
  "language_info": {
   "codemirror_mode": {
    "name": "ipython",
    "version": 3
   },
   "file_extension": ".py",
   "mimetype": "text/x-python",
   "name": "python",
   "nbconvert_exporter": "python",
   "pygments_lexer": "ipython3",
   "version": "3.6.3"
  }
 },
 "nbformat": 4,
 "nbformat_minor": 2
}
