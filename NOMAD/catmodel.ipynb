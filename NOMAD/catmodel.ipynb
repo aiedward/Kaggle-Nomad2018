{
 "cells": [
  {
   "cell_type": "code",
   "execution_count": 4,
   "metadata": {
    "collapsed": true
   },
   "outputs": [],
   "source": [
    "import pandas as pd\n",
    "import numpy as np\n",
    "from sklearn.metrics import mean_squared_error, make_scorer\n",
    "from sklearn.model_selection import cross_val_score\n",
    "from sklearn.model_selection import KFold\n",
    "from catboost import Pool, CatBoostRegressor\n",
    "from datetime import datetime "
   ]
  },
  {
   "cell_type": "code",
   "execution_count": 5,
   "metadata": {
    "collapsed": true
   },
   "outputs": [],
   "source": [
    "# Utility functions\n",
    "def load_data(csv_path):\n",
    "    return pd.read_csv(csv_path)\n",
    "\n",
    "def rmsle(actual, predicted):\n",
    "    \"\"\"\n",
    "    Args:\n",
    "        actual (1d-array [nx1]) - array of actual values (float)\n",
    "        predicted (1d-array [nx1]) - array of predicted values (float)\n",
    "    Returns:\n",
    "        root mean square log error (float)\n",
    "    \"\"\"\n",
    "    return np.sqrt(np.mean(np.power(np.log1p(actual)-np.log1p(predicted), 2)))\n",
    "\n",
    "objective  = make_scorer(rmsle, greater_is_better=False)\n",
    "\n",
    "def drop_features(df_t):\n",
    "    df = df_t.copy()\n",
    "    df = df.drop('id', 1)\n",
    "    df = df.drop(\"formation_energy_ev_natom\", 1)\n",
    "    df = df.drop(\"bandgap_energy_ev\", 1)\n",
    "    return df\n",
    "\n",
    "def drop_features_s(df_t):\n",
    "    df = df_t.copy()\n",
    "    df = df.drop('id', 1)\n",
    "    return df\n",
    "\n",
    "def display_scores(scores):\n",
    "    print(\"Expected LB\")\n",
    "    print(\"Scores: \", scores)\n",
    "    print(\"Mean: \", scores.mean())\n",
    "    print(\"Standard deviation: \", scores.std())"
   ]
  },
  {
   "cell_type": "code",
   "execution_count": 6,
   "metadata": {
    "collapsed": true
   },
   "outputs": [],
   "source": [
    "# Prepare data sets\n",
    "df_t = pd.read_csv('/home/agi/Desktop/NOMAD/data/train_full.csv')\n",
    "df_s = pd.read_csv('/home/agi/Desktop/NOMAD/data/test_full.csv')\n",
    "\n",
    "X_train = drop_features(df_t)\n",
    "X_submt = drop_features_s(df_s)\n",
    "y_form = df_t[\"formation_energy_ev_natom\"]\n",
    "y_band = df_t[\"bandgap_energy_ev\"]"
   ]
  },
  {
   "cell_type": "code",
   "execution_count": 7,
   "metadata": {},
   "outputs": [
    {
     "name": "stdout",
     "output_type": "stream",
     "text": [
      "Expected LB\n",
      "Scores:  [ 0.05412756  0.0640158   0.06537968  0.05092926  0.05197046  0.06719524\n",
      "  0.05751173  0.05274459  0.06387804  0.05868859]\n",
      "Mean:  0.0586440950169\n",
      "Standard deviation:  0.00579036298443\n"
     ]
    },
    {
     "data": {
      "text/plain": [
       "<catboost.core.CatBoostRegressor at 0x7f4ac9ffdb00>"
      ]
     },
     "execution_count": 7,
     "metadata": {},
     "output_type": "execute_result"
    }
   ],
   "source": [
    "# Train and evaluate with K-Fold Cross-validation\n",
    "k_fold = KFold(n_splits=10, random_state=7)\n",
    "model_form = CatBoostRegressor(logging_level='Silent')\n",
    "model_band = CatBoostRegressor(logging_level='Silent')\n",
    "\n",
    "scores_form = cross_val_score(model_form, X_train, y_form, scoring=objective, cv=k_fold)\n",
    "scores_band = cross_val_score(model_band, X_train, y_band, scoring=objective, cv=k_fold)\n",
    "\n",
    "rmse_scores = -scores_form - scores_band\n",
    "display_scores(rmse_scores / 2)\n",
    "\n",
    "# Fit models\n",
    "model_form.fit(X_train, y_form, cat_features=[0])\n",
    "model_band.fit(X_train, y_band, cat_features=[0])"
   ]
  },
  {
   "cell_type": "code",
   "execution_count": 8,
   "metadata": {
    "collapsed": true
   },
   "outputs": [],
   "source": [
    "# Predict on the submission set\n",
    "cat_submit = Pool(X_submt, cat_features=[0])\n",
    "submit_pred_form = model_form.predict(cat_submit)\n",
    "submit_pred_band = model_band.predict(cat_submit)\n",
    "\n",
    "# Build submission .csv\n",
    "submission = np.concatenate((submit_pred_form.reshape(600,1), submit_pred_band.reshape(600,1)), axis=1)\n",
    "submit_df = pd.DataFrame(submission, columns=['formation_energy_ev_natom', \"bandgap_energy_ev\"])\n",
    "submit_df[submit_df < 0] = 0\n",
    "submit_df.insert(0, 'id', range(1, 601))\n",
    "\n",
    "# Save to file\n",
    "submit_df.to_csv(\"/home/agi/Desktop/NOMAD/submissions/cat_2.csv\", index=False)"
   ]
  },
  {
   "cell_type": "code",
   "execution_count": 1,
   "metadata": {},
   "outputs": [
    {
     "ename": "NameError",
     "evalue": "name 'cat_form_model' is not defined",
     "output_type": "error",
     "traceback": [
      "\u001b[1;31m---------------------------------------------------------------------------\u001b[0m",
      "\u001b[1;31mNameError\u001b[0m                                 Traceback (most recent call last)",
      "\u001b[1;32m<ipython-input-1-5a3d3d4ca92b>\u001b[0m in \u001b[0;36m<module>\u001b[1;34m()\u001b[0m\n\u001b[0;32m      1\u001b[0m \u001b[1;31m# Save model to disk\u001b[0m\u001b[1;33m\u001b[0m\u001b[1;33m\u001b[0m\u001b[0m\n\u001b[1;32m----> 2\u001b[1;33m \u001b[0mcat_form_model\u001b[0m\u001b[1;33m.\u001b[0m\u001b[0msave_model\u001b[0m\u001b[1;33m(\u001b[0m\u001b[1;34m'/home/agi/Desktop/NOMAD/models/cat_form_model'\u001b[0m\u001b[1;33m,\u001b[0m \u001b[0mformat\u001b[0m\u001b[1;33m=\u001b[0m\u001b[1;34m\"cbm\"\u001b[0m\u001b[1;33m,\u001b[0m \u001b[0mexport_parameters\u001b[0m\u001b[1;33m=\u001b[0m\u001b[1;32mNone\u001b[0m\u001b[1;33m)\u001b[0m\u001b[1;33m\u001b[0m\u001b[0m\n\u001b[0m\u001b[0;32m      3\u001b[0m \u001b[0mcat_band_model\u001b[0m\u001b[1;33m.\u001b[0m\u001b[0msave_model\u001b[0m\u001b[1;33m(\u001b[0m\u001b[1;34m'/home/agi/Desktop/NOMAD/models/cat_band_model'\u001b[0m\u001b[1;33m,\u001b[0m \u001b[0mformat\u001b[0m\u001b[1;33m=\u001b[0m\u001b[1;34m\"cbm\"\u001b[0m\u001b[1;33m,\u001b[0m \u001b[0mexport_parameters\u001b[0m\u001b[1;33m=\u001b[0m\u001b[1;32mNone\u001b[0m\u001b[1;33m)\u001b[0m\u001b[1;33m\u001b[0m\u001b[0m\n",
      "\u001b[1;31mNameError\u001b[0m: name 'cat_form_model' is not defined"
     ]
    }
   ],
   "source": [
    "# Save model to disk\n",
    "cat_form_model.save_model('/home/agi/Desktop/NOMAD/models/cat_form_model', format=\"cbm\", export_parameters=None)\n",
    "cat_band_model.save_model('/home/agi/Desktop/NOMAD/models/cat_band_model', format=\"cbm\", export_parameters=None)"
   ]
  },
  {
   "cell_type": "code",
   "execution_count": null,
   "metadata": {
    "collapsed": true
   },
   "outputs": [],
   "source": []
  }
 ],
 "metadata": {
  "kernelspec": {
   "display_name": "Python 3",
   "language": "python",
   "name": "python3"
  },
  "language_info": {
   "codemirror_mode": {
    "name": "ipython",
    "version": 3
   },
   "file_extension": ".py",
   "mimetype": "text/x-python",
   "name": "python",
   "nbconvert_exporter": "python",
   "pygments_lexer": "ipython3",
   "version": "3.6.3"
  }
 },
 "nbformat": 4,
 "nbformat_minor": 2
}
