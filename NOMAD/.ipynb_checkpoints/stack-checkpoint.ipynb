{
 "cells": [
  {
   "cell_type": "code",
   "execution_count": null,
   "metadata": {
    "collapsed": true
   },
   "outputs": [],
   "source": [
    "import pandas as pd\n",
    "import numpy as np\n",
    "import matplotlib as plt\n",
    "from mlxtend.regressor import StackingRegressor\n",
    "from sklearn.linear_model import LinearRegression\n",
    "from sklearn.metrics import mean_squared_error, make_scorer\n",
    "from sklearn.model_selection import cross_val_score\n",
    "from sklearn.model_selection import KFold\n",
    "from sklearn.ensemble import BaggingRegressor\n",
    "from catboost import Pool, CatBoostRegressor\n",
    "import xgboost as xgb\n",
    "import lightgbm as lgb\n",
    "from sklearn.ensemble import GradientBoostingRegressor\n",
    "from tqdm import tqdm\n",
    "from xgboost import XGBRegressor\n",
    "from sklearn.svm import SVR\n",
    "from sklearn.linear_model import Lasso\n",
    "from sklearn.ensemble import RandomForestRegressor\n",
    "from sklearn.dummy import DummyRegressor"
   ]
  },
  {
   "cell_type": "code",
   "execution_count": null,
   "metadata": {
    "collapsed": true
   },
   "outputs": [],
   "source": [
    "# Utility functions\n",
    "def load_data(csv_path):\n",
    "    return pd.read_csv(csv_path)\n",
    "\n",
    "def rmsle(actual, predicted):\n",
    "    \"\"\"\n",
    "    Args:\n",
    "        actual (1d-array [nx1]) - array of actual values (float)\n",
    "        predicted (1d-array [nx1]) - array of predicted values (float)\n",
    "    Returns:\n",
    "        root mean square log error (float)\n",
    "    \"\"\"\n",
    "    return np.sqrt(np.mean(np.power(np.log1p(actual)-np.log1p(predicted), 2)))\n",
    "\n",
    "objective  = make_scorer(rmsle, greater_is_better=False)\n",
    "\n",
    "def drop_features(df_t):\n",
    "    df = df_t.copy()\n",
    "    df = df.drop('id', 1)\n",
    "    df = df.drop(\"formation_energy_ev_natom\", 1)\n",
    "    df = df.drop(\"bandgap_energy_ev\", 1)\n",
    "    return df\n",
    "\n",
    "def display_scores(scores):\n",
    "    print(\"Expected LB\")\n",
    "    print(\"Scores: \", scores)\n",
    "    print(\"Mean: \", scores.mean())\n",
    "    print(\"Standard deviation: \", scores.std())"
   ]
  },
  {
   "cell_type": "code",
   "execution_count": null,
   "metadata": {
    "collapsed": true
   },
   "outputs": [],
   "source": [
    "# Prepare data sets\n",
    "df_t = pd.read_csv('/home/agi/Desktop/NOMAD/data/train_prepared.csv')\n",
    "df_s = pd.read_csv('/home/agi/Desktop/NOMAD/data/test_prepared.csv')\n",
    "\n",
    "X_train = drop_features(df_t)\n",
    "X_submt = drop_features(df_s)\n",
    "y_form = df_t[\"formation_energy_ev_natom\"]\n",
    "y_band = df_t[\"bandgap_energy_ev\"]"
   ]
  },
  {
   "cell_type": "code",
   "execution_count": null,
   "metadata": {
    "collapsed": true
   },
   "outputs": [],
   "source": [
    "k_fold = KFold(n_splits=10, random_state=7)\n",
    "\n",
    "# Initializing models\n",
    "params = {    \n",
    "    'boosting_type': 'gbdt',    \n",
    "     'objective': 'regression',    \n",
    "          'metric': 'rmse',    \n",
    "          'max_depth': 3,    \n",
    "          'min_child_weight': 70,    \n",
    "          'learning_rate': 0.2,   \n",
    "          'subsample': 1,\n",
    "          'n_estimators': 120}\n",
    "\n",
    "m1 = XGBRegressor(max_depth=6, learning_rate=0.2, n_estimators=40, \n",
    "                   min_child_weight=70, colsample_bytree=1, subsample=1)\n",
    "m8 = lgb_model_form = lgb.LGBMRegressor(**params)\n",
    "m16 = CatBoostRegressor()\n",
    "\n",
    "model_form = StackingRegressor(regressors=[m16,m16, m16], \n",
    "                           meta_regressor=LinearRegression())\n",
    "\n",
    "model_band = StackingRegressor(regressors=[m16,m16, m16], \n",
    "                           meta_regressor=LinearRegression())"
   ]
  },
  {
   "cell_type": "code",
   "execution_count": null,
   "metadata": {},
   "outputs": [],
   "source": [
    "# Training the stacking classifier\n",
    "scores_form = cross_val_score(model_form, X_train, y_form, scoring=objective, cv=k_fold)\n",
    "scores_band = cross_val_score(model_band, X_train, y_band, scoring=objective, cv=k_fold)\n",
    "\n",
    "rmse_scores = -scores_form - scores_band\n",
    "display_scores(rmse_scores / 2)\n",
    "\n",
    "# Fit models\n",
    "model_form.fit(X_train, y_form)\n",
    "model_band.fit(X_train, y_band)"
   ]
  },
  {
   "cell_type": "code",
   "execution_count": null,
   "metadata": {},
   "outputs": [],
   "source": [
    "rmse_scores = -scores_form - scores_band\n",
    "display_scores(rmse_scores / 2)"
   ]
  },
  {
   "cell_type": "code",
   "execution_count": null,
   "metadata": {
    "collapsed": true
   },
   "outputs": [],
   "source": [
    "submit_pred_form = model_form.predict(X_submt)\n",
    "submit_pred_band = model_band.predict(X_submt)\n",
    "\n",
    "# Build submission .csv\n",
    "submission = np.concatenate((submit_pred_form.reshape(600,1), submit_pred_band.reshape(600,1)), axis=1)\n",
    "submit_df = pd.DataFrame(submission, columns=['formation_energy_ev_natom', \"bandgap_energy_ev\"])\n",
    "submit_df[submit_df < 0] = 0\n",
    "submit_df.insert(0, 'id', range(1, 601))\n",
    "\n",
    "# Save to file\n",
    "submit_df.to_csv(\"/home/agi/Desktop/NOMAD/submissions/stack_5.csv\", index=False)"
   ]
  },
  {
   "cell_type": "code",
   "execution_count": null,
   "metadata": {
    "collapsed": true
   },
   "outputs": [],
   "source": []
  }
 ],
 "metadata": {
  "kernelspec": {
   "display_name": "Python 3",
   "language": "python",
   "name": "python3"
  },
  "language_info": {
   "codemirror_mode": {
    "name": "ipython",
    "version": 3
   },
   "file_extension": ".py",
   "mimetype": "text/x-python",
   "name": "python",
   "nbconvert_exporter": "python",
   "pygments_lexer": "ipython3",
   "version": "3.6.3"
  }
 },
 "nbformat": 4,
 "nbformat_minor": 2
}
