{
 "cells": [
  {
   "cell_type": "code",
   "execution_count": 1,
   "metadata": {},
   "outputs": [
    {
     "ename": "ModuleNotFoundError",
     "evalue": "No module named 'skopt'",
     "output_type": "error",
     "traceback": [
      "\u001b[1;31m---------------------------------------------------------------------------\u001b[0m",
      "\u001b[1;31mModuleNotFoundError\u001b[0m                       Traceback (most recent call last)",
      "\u001b[1;32m<ipython-input-1-59f7166cdfc3>\u001b[0m in \u001b[0;36m<module>\u001b[1;34m()\u001b[0m\n\u001b[0;32m      5\u001b[0m \u001b[1;32mfrom\u001b[0m \u001b[0msklearn\u001b[0m\u001b[1;33m.\u001b[0m\u001b[0mmetrics\u001b[0m \u001b[1;32mimport\u001b[0m \u001b[0mmake_scorer\u001b[0m\u001b[1;33m\u001b[0m\u001b[0m\n\u001b[0;32m      6\u001b[0m \u001b[1;32mfrom\u001b[0m \u001b[0mdatetime\u001b[0m \u001b[1;32mimport\u001b[0m \u001b[0mdatetime\u001b[0m\u001b[1;33m\u001b[0m\u001b[0m\n\u001b[1;32m----> 7\u001b[1;33m \u001b[1;32mfrom\u001b[0m \u001b[0mskopt\u001b[0m \u001b[1;32mimport\u001b[0m \u001b[0mBayesSearchCV\u001b[0m\u001b[1;33m\u001b[0m\u001b[0m\n\u001b[0m\u001b[0;32m      8\u001b[0m \u001b[1;32mfrom\u001b[0m \u001b[0msklearn\u001b[0m\u001b[1;33m.\u001b[0m\u001b[0mmodel_selection\u001b[0m \u001b[1;32mimport\u001b[0m \u001b[0mKFold\u001b[0m\u001b[1;33m\u001b[0m\u001b[0m\n",
      "\u001b[1;31mModuleNotFoundError\u001b[0m: No module named 'skopt'"
     ]
    }
   ],
   "source": [
    "import numpy as np\n",
    "import pandas as pd\n",
    "import lightgbm as lgb\n",
    "from sklearn.model_selection import train_test_split\n",
    "from sklearn.metrics import make_scorer\n",
    "from datetime import datetime \n",
    "from skopt import BayesSearchCV\n",
    "from sklearn.model_selection import KFold"
   ]
  },
  {
   "cell_type": "code",
   "execution_count": null,
   "metadata": {
    "collapsed": true
   },
   "outputs": [],
   "source": [
    "# Utility functions\n",
    "def load_data(csv_path):\n",
    "    return pd.read_csv(csv_path)\n",
    "\n",
    "def rmsle(actual, predicted):\n",
    "    \"\"\"\n",
    "    Args:\n",
    "        actual (1d-array [nx1]) - array of actual values (float)\n",
    "        predicted (1d-array [nx1]) - array of predicted values (float)\n",
    "    Returns:\n",
    "        root mean square log error (float)\n",
    "    \"\"\"\n",
    "    return np.sqrt(np.mean(np.power(np.log1p(actual)-np.log1p(predicted), 2)))\n",
    "\n",
    "objective  = make_scorer(rmsle, greater_is_better=False)\n",
    "\n",
    "def drop_features(df_t):\n",
    "    df = df_t.copy()\n",
    "    df = df.drop('id', 1)\n",
    "    df = df.drop(\"formation_energy_ev_natom\", 1)\n",
    "    df = df.drop(\"bandgap_energy_ev\", 1)\n",
    "    df = df.drop(\"spacegroup\", 1)\n",
    "    return df\n",
    "\n",
    "def display_scores(scores):\n",
    "    print(\"CV LB: \")\n",
    "    print(\"Scores: \", scores)\n",
    "    print(\"Mean: \", scores.mean())\n",
    "    print(\"Standard deviation: \", scores.std())"
   ]
  },
  {
   "cell_type": "code",
   "execution_count": null,
   "metadata": {},
   "outputs": [],
   "source": [
    "# Create train/test datasets\n",
    "df = pd.read_csv('/home/agi/Desktop/NOMAD/data/train_prepared.csv')\n",
    "train_df, test_df = train_test_split(df, test_size=0.2, random_state=400)\n",
    "\n",
    "X_full = drop_features(df)\n",
    "X_train = drop_features(train_df)\n",
    "X_test  = drop_features(test_df)\n",
    "\n",
    "y_form_full = df[\"formation_energy_ev_natom\"]\n",
    "y_band_full = df[\"bandgap_energy_ev\"]\n",
    "\n",
    "y_form_train = train_df[\"formation_energy_ev_natom\"]\n",
    "y_band_train = train_df[\"bandgap_energy_ev\"]\n",
    "\n",
    "y_form_test  = test_df[\"formation_energy_ev_natom\"]\n",
    "y_band_test  = test_df[\"bandgap_energy_ev\"]\n",
    "\n",
    "params = {\n",
    "    'max_depth': (3, 10),\n",
    "    'min_child_weight': (1e-3, 1e+3),\n",
    "    'n_estimators': (1, 300),\n",
    "    'colsample_bytree': (1e-1, 1e+0),\n",
    "    'subsample': (0.4, 1),\n",
    "    'bagging_fraction': (0.5, 1),\n",
    "    'feature_fraction': (0.5, 1),\n",
    "    'min_split_gain': (0.1, 10),\n",
    "}\n",
    "\n",
    "# log-uniform: understand as search over p = exp(x) by varying x\n",
    "opt_form = BayesSearchCV(\n",
    "    lgb.LGBMRegressor(boosting_type='gbdt', objective='regression', metric='rmse', categorical_feature=0),\n",
    "    params,\n",
    "    n_iter=10,\n",
    "    n_jobs=4\n",
    ")\n",
    "opt_form.fit(X_full, y_form_full)\n",
    "\n",
    "print(\"val. score: %s\" % opt_form.best_score_)\n",
    "print(\"test score: %s\" % opt_form.score(X_test, y_form_test))\n",
    "print(opt_form.best_params_)"
   ]
  },
  {
   "cell_type": "code",
   "execution_count": null,
   "metadata": {
    "collapsed": true
   },
   "outputs": [],
   "source": [
    "# log-uniform: understand as search over p = exp(x) by varying x\n",
    "opt_band = BayesSearchCV(\n",
    "    lgb.LGBMRegressor(boosting_type='gbdt', objective='regression', metric='rmse'),\n",
    "    params,\n",
    "    n_iter=10,\n",
    "    n_jobs=4\n",
    ")\n",
    "\n",
    "opt_band.fit(X_full, y_band_full)\n",
    "\n",
    "print(\"val. score: %s\" % opt_band.best_score_)\n",
    "print(\"test score: %s\" % opt_band.score(X_test, y_band_test))\n",
    "print(opt_band.best_params_)"
   ]
  },
  {
   "cell_type": "code",
   "execution_count": null,
   "metadata": {
    "collapsed": true
   },
   "outputs": [],
   "source": [
    "opt_band.best_params_"
   ]
  },
  {
   "cell_type": "code",
   "execution_count": null,
   "metadata": {
    "collapsed": true
   },
   "outputs": [],
   "source": [
    "opt_form.best_params_"
   ]
  }
 ],
 "metadata": {
  "kernelspec": {
   "display_name": "Python 3",
   "language": "python",
   "name": "python3"
  },
  "language_info": {
   "codemirror_mode": {
    "name": "ipython",
    "version": 3
   },
   "file_extension": ".py",
   "mimetype": "text/x-python",
   "name": "python",
   "nbconvert_exporter": "python",
   "pygments_lexer": "ipython3",
   "version": "3.6.3"
  }
 },
 "nbformat": 4,
 "nbformat_minor": 2
}
