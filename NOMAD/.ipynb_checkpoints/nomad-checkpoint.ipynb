{
 "cells": [
  {
   "cell_type": "code",
   "execution_count": 1,
   "metadata": {
    "collapsed": true
   },
   "outputs": [],
   "source": [
    "import os\n",
    "import pandas as pd\n",
    "import numpy as np"
   ]
  },
  {
   "cell_type": "code",
   "execution_count": 2,
   "metadata": {
    "collapsed": true
   },
   "outputs": [],
   "source": [
    "def load_data(csv_path):\n",
    "    return pd.read_csv(csv_path)"
   ]
  },
  {
   "cell_type": "code",
   "execution_count": 3,
   "metadata": {
    "collapsed": true
   },
   "outputs": [],
   "source": [
    "def rmsle(actual, predicted):\n",
    "    \"\"\"\n",
    "    Args:\n",
    "        actual (1d-array) - array of actual values (float)\n",
    "        predicted (1d-array) - array of predicted values (float)\n",
    "    Returns:\n",
    "        root mean square log error (float)\n",
    "    \"\"\"\n",
    "    return np.sqrt(np.mean(np.power(np.log1p(actual)-np.log1p(predicted), 2)))"
   ]
  },
  {
   "cell_type": "code",
   "execution_count": 4,
   "metadata": {
    "collapsed": true
   },
   "outputs": [],
   "source": [
    "from sklearn.base import BaseEstimator, TransformerMixin\n",
    "\n",
    "# Create a class to select numerical or categorical columns \n",
    "# since Scikit-Learn doesn't handle DataFrames yet\n",
    "class DataFrameSelector(BaseEstimator, TransformerMixin):\n",
    "    def __init__(self, attribute_names):\n",
    "        self.attribute_names = attribute_names\n",
    "    def fit(self, X, y=None):\n",
    "        return self\n",
    "    def transform(self, X):\n",
    "        return X[self.attribute_names].values"
   ]
  },
  {
   "cell_type": "code",
   "execution_count": 5,
   "metadata": {
    "collapsed": true
   },
   "outputs": [],
   "source": [
    "TRAIN_PATH = \"/home/agi/Desktop/NOMAD/data/train_prepared.csv\"\n",
    "TEST_PATH = \"/home/agi/Desktop/NOMAD/data/test_prepared.csv\"\n",
    "\n",
    "trainData = load_data(TRAIN_PATH)\n",
    "testData = load_data(TEST_PATH)\n",
    "\n",
    "# Drop duplicates by id\n",
    "dups = [394,125,1214,1885,2074,352,307,2153,530,1378,2318,2336,2369,2332]\n",
    "trainData = trainData.drop(trainData.index[[dups]])"
   ]
  },
  {
   "cell_type": "code",
   "execution_count": 6,
   "metadata": {
    "collapsed": true
   },
   "outputs": [],
   "source": [
    "from sklearn.model_selection import train_test_split\n",
    "train_set, test_set = train_test_split(trainData, test_size=0.2, random_state=42)\n",
    "\n",
    "train = train_set.copy()\n",
    "train = train.drop('id', 1)\n",
    "train = train.drop(\"formation_energy_ev_natom\", 1)\n",
    "train = train.drop(\"bandgap_energy_ev\", 1)\n",
    "form_labels = trainData[\"formation_energy_ev_natom\"].copy()\n",
    "band_labels = trainData[\"bandgap_energy_ev\"].copy()"
   ]
  },
  {
   "cell_type": "code",
   "execution_count": 7,
   "metadata": {
    "collapsed": true
   },
   "outputs": [],
   "source": [
    "numerical_attrbs = list(train)\n",
    "del numerical_attrbs[0]\n",
    "del numerical_attrbs[0]\n",
    "label_attrbs = ['spacegroup']"
   ]
  },
  {
   "cell_type": "code",
   "execution_count": 8,
   "metadata": {
    "collapsed": true
   },
   "outputs": [],
   "source": [
    "from sklearn.preprocessing import OneHotEncoder\n",
    "spacegroup = trainData[\"spacegroup\"]\n",
    "encoder = OneHotEncoder()\n",
    "spacegroup_1hot = encoder.fit_transform(spacegroup.values.reshape(-1,1))\n"
   ]
  },
  {
   "cell_type": "code",
   "execution_count": 9,
   "metadata": {
    "collapsed": true
   },
   "outputs": [],
   "source": [
    "from sklearn.pipeline import Pipeline\n",
    "from sklearn.preprocessing import OneHotEncoder\n",
    "from sklearn.preprocessing import StandardScaler\n",
    "from sklearn.pipeline import FeatureUnion\n",
    "\n",
    "attrs = list(trainData)\n",
    "hot_attrs = [\"spacegroup\"]\n",
    "\n",
    "pl1 = Pipeline([\n",
    "    ('selector', DataFrameSelector(numerical_attrbs)),\n",
    "    ('scaler', StandardScaler()),\n",
    "])\n",
    "\n",
    "pl2 = Pipeline([\n",
    "    ('selector', DataFrameSelector(label_attrbs)),\n",
    "    ('one_hot', OneHotEncoder())\n",
    "])\n",
    "\n",
    "full_pl = FeatureUnion(transformer_list=[\n",
    "    ('numerical', pl1),\n",
    "    ('label',     pl2),\n",
    "])"
   ]
  },
  {
   "cell_type": "code",
   "execution_count": 10,
   "metadata": {},
   "outputs": [
    {
     "name": "stdout",
     "output_type": "stream",
     "text": [
      "  (0, 0)\t0.899877849416\n",
      "  (0, 1)\t0.282932360262\n",
      "  (0, 2)\t-1.16260359879\n",
      "  (0, 3)\t-0.00993688368141\n",
      "  (0, 4)\t0.773641791316\n",
      "  (0, 5)\t-0.629384126672\n",
      "  (0, 6)\t-0.186429361804\n",
      "  (0, 7)\t-0.451480711486\n",
      "  (0, 8)\t-0.187092902296\n",
      "  (0, 9)\t1.17191310414\n",
      "  (0, 10)\t0.0996530705994\n",
      "  (0, 11)\t0.592597796084\n",
      "  (0, 12)\t-1.15259582661\n",
      "  (0, 13)\t1.01052386234\n",
      "  (0, 14)\t-0.957122970386\n",
      "  (0, 15)\t0.625540595187\n",
      "  (0, 16)\t-0.793083600633\n",
      "  (0, 17)\t-1.12595411239\n",
      "  (0, 18)\t-0.186429361804\n",
      "  (0, 19)\t-0.451480711486\n",
      "  (0, 20)\t-0.187092902296\n",
      "  (0, 21)\t0.371897158821\n",
      "  (0, 22)\t1.14248979175\n",
      "  (0, 24)\t1.0\n",
      "  (1, 0)\t0.899877849416\n",
      "  :\t:\n",
      "  (2384, 24)\t1.0\n",
      "  (2385, 0)\t1.84044084306\n",
      "  (2385, 1)\t-0.921045454063\n",
      "  (2385, 2)\t-1.04377821172\n",
      "  (2385, 3)\t-0.167610858241\n",
      "  (2385, 4)\t1.04501304918\n",
      "  (2385, 5)\t-0.650137825425\n",
      "  (2385, 6)\t-0.186353956851\n",
      "  (2385, 7)\t-0.45121482119\n",
      "  (2385, 8)\t-0.187208908317\n",
      "  (2385, 9)\t1.51652343362\n",
      "  (2385, 10)\t1.38220019958\n",
      "  (2385, 11)\t1.76915507392\n",
      "  (2385, 12)\t-1.59839531811\n",
      "  (2385, 13)\t1.80220525198\n",
      "  (2385, 14)\t-0.318246665532\n",
      "  (2385, 15)\t-0.382510940352\n",
      "  (2385, 16)\t-1.83759794024\n",
      "  (2385, 17)\t-0.856782617232\n",
      "  (2385, 18)\t-0.186353956851\n",
      "  (2385, 19)\t-0.45121482119\n",
      "  (2385, 20)\t-0.187208908317\n",
      "  (2385, 21)\t0.235196116717\n",
      "  (2385, 22)\t1.68141734469\n",
      "  (2385, 27)\t1.0\n"
     ]
    }
   ],
   "source": [
    "data_prepared = full_pl.fit_transform(trainData)\n",
    "print(data_prepared)"
   ]
  },
  {
   "cell_type": "code",
   "execution_count": null,
   "metadata": {
    "collapsed": true
   },
   "outputs": [],
   "source": [
    "from sklearn.ensemble import RandomForestRegressor\n",
    "from sklearn.ensemble import GradientBoostingRegressor\n",
    "from sklearn.ensemble import BaggingRegressor \n",
    "\n",
    "lin_reg_form = GradientBoostingRegressor(n_estimators=10000)\n",
    "lin_reg_band = GradientBoostingRegressor(n_estimators=10000)\n",
    "\n",
    "lin_reg_form.fit(data_prepared, form_labels)\n",
    "lin_reg_band.fit(data_prepared, band_labels)"
   ]
  },
  {
   "cell_type": "code",
   "execution_count": null,
   "metadata": {
    "collapsed": true
   },
   "outputs": [],
   "source": [
    "from sklearn.metrics import mean_squared_error\n",
    "predictions_form = lin_reg_form.predict(data_prepared)\n",
    "predictions_band = lin_reg_band.predict(data_prepared)\n",
    "lin_mse_form = mean_squared_error(form_labels, predictions_form)\n",
    "lin_mse_band = mean_squared_error(band_labels, predictions_band)\n",
    "lin_rmse_form = np.sqrt(lin_mse_form)\n",
    "lin_rmse_band = np.sqrt(lin_mse_band)\n",
    "\n",
    "print(lin_rmse_form)\n",
    "print(lin_rmse_band)"
   ]
  },
  {
   "cell_type": "code",
   "execution_count": null,
   "metadata": {
    "collapsed": true
   },
   "outputs": [],
   "source": [
    "#feature_importances = lin_reg_form.feature_importances_\n",
    "\n",
    "#cat_one_hot_attribs = list('1')\n",
    "#print(encoder.categorical_features)\n",
    "#attributes = numerical_attrbs + cat_one_hot_attribs\n",
    "#sorted(zip(feature_importances, attributes), reverse=True)"
   ]
  },
  {
   "cell_type": "code",
   "execution_count": null,
   "metadata": {
    "collapsed": true
   },
   "outputs": [],
   "source": [
    "X_test = test_set.drop(\"id\", axis=1).drop(\"formation_energy_ev_natom\", axis=1).drop(\"bandgap_energy_ev\", axis=1)\n",
    "form_test = test_set[\"formation_energy_ev_natom\"]\n",
    "X_test_prepared = full_pl.transform(X_test)\n",
    "final_predictions = lin_reg_form.predict(X_test_prepared)\n",
    "\n",
    "final_mse = mean_squared_error(form_test, final_predictions)\n",
    "final_rmse = np.sqrt(final_mse)\n",
    "final_rmse"
   ]
  },
  {
   "cell_type": "code",
   "execution_count": null,
   "metadata": {
    "collapsed": true
   },
   "outputs": [],
   "source": [
    "X_test = test_set.drop(\"id\", axis=1).drop(\"formation_energy_ev_natom\", axis=1).drop(\"bandgap_energy_ev\", axis=1)\n",
    "y_test = test_set[\"bandgap_energy_ev\"]\n",
    "X_test_prepared = full_pl.transform(X_test)\n",
    "final_predictions = lin_reg_band.predict(X_test_prepared)\n",
    "\n",
    "final_mse = mean_squared_error(y_test, final_predictions)\n",
    "final_rmse = np.sqrt(final_mse)\n",
    "final_rmse"
   ]
  },
  {
   "cell_type": "code",
   "execution_count": null,
   "metadata": {
    "collapsed": true
   },
   "outputs": [],
   "source": [
    "test = testData.copy()\n",
    "test.drop('id', 1)\n",
    "test_prepared = full_pl.transform(test)\n",
    "test_predictions_form = lin_reg_form.predict(test_prepared)\n",
    "test_predictions_band = lin_reg_band.predict(test_prepared)"
   ]
  },
  {
   "cell_type": "code",
   "execution_count": null,
   "metadata": {
    "collapsed": true
   },
   "outputs": [],
   "source": [
    "submission = np.concatenate((test_predictions_form.reshape(600,1), \n",
    "                        test_predictions_band.reshape(600,1)), axis=1)\n",
    "print(submission)"
   ]
  },
  {
   "cell_type": "code",
   "execution_count": null,
   "metadata": {
    "collapsed": true
   },
   "outputs": [],
   "source": [
    "df = pd.DataFrame(submission, columns=['formation_energy_ev_natom', \"bandgap_energy_ev\"])\n",
    "df[df < 0] = 0"
   ]
  },
  {
   "cell_type": "code",
   "execution_count": null,
   "metadata": {
    "collapsed": true
   },
   "outputs": [],
   "source": [
    "df.insert(0, 'id', range(1, len(df) + 1))"
   ]
  },
  {
   "cell_type": "code",
   "execution_count": null,
   "metadata": {
    "collapsed": true
   },
   "outputs": [],
   "source": [
    "df.to_csv(\"/home/agi/Desktop/NOMAD/submit_10kgb.csv\", index=False)"
   ]
  }
 ],
 "metadata": {
  "kernelspec": {
   "display_name": "Python 3",
   "language": "python",
   "name": "python3"
  },
  "language_info": {
   "codemirror_mode": {
    "name": "ipython",
    "version": 3
   },
   "file_extension": ".py",
   "mimetype": "text/x-python",
   "name": "python",
   "nbconvert_exporter": "python",
   "pygments_lexer": "ipython3",
   "version": "3.6.3"
  }
 },
 "nbformat": 4,
 "nbformat_minor": 2
}
