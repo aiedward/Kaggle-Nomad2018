{
 "cells": [
  {
   "cell_type": "code",
   "execution_count": 1,
   "metadata": {
    "collapsed": true
   },
   "outputs": [],
   "source": [
    "import os\n",
    "import pandas as pd\n",
    "import numpy as np"
   ]
  },
  {
   "cell_type": "code",
   "execution_count": 2,
   "metadata": {
    "collapsed": true
   },
   "outputs": [],
   "source": [
    "# read data into DataFrame\n",
    "\n",
    "def make_df(fin):\n",
    "    \"\"\"\n",
    "    Args:\n",
    "        fin (str) - file name with training or test data\n",
    "    Returns:\n",
    "        DataFrame with renamed columns (personal preference)\n",
    "    \"\"\"\n",
    "    df = pd.read_csv(fin)\n",
    "    df = df.rename(columns={'spacegroup' : 'spacegroup',\n",
    "                            'number_of_total_atoms' : 'Natoms',\n",
    "                            'percent_atom_al' : 'x_Al',\n",
    "                            'percent_atom_ga' : 'x_Ga',\n",
    "                            'percent_atom_in' : 'x_In',\n",
    "                            'lattice_vector_1_ang' : 'a',\n",
    "                            'lattice_vector_2_ang' : 'b',\n",
    "                            'lattice_vector_3_ang' : 'c',\n",
    "                            'lattice_angle_alpha_degree' : 'alpha',\n",
    "                            'lattice_angle_beta_degree' : 'beta',\n",
    "                            'lattice_angle_gamma_degree' : 'gamma',\n",
    "                            'formation_energy_ev_natom' : 'formation_energy_ev_natom',\n",
    "                            'bandgap_energy_ev' : 'bandgap_energy_ev'})\n",
    "    return df"
   ]
  },
  {
   "cell_type": "code",
   "execution_count": 3,
   "metadata": {
    "collapsed": true
   },
   "outputs": [],
   "source": [
    "# retrieve list of elemental properties\n",
    "\n",
    "def get_prop_list(path_to_element_data):\n",
    "    \"\"\"\n",
    "    Args:\n",
    "        path_to_element_data (str) - path to folder of elemental property files\n",
    "    Returns:\n",
    "        list of elemental properties (str) which have corresponding .csv files\n",
    "    \"\"\"\n",
    "    return [f[:-4] for f in os.listdir(path_to_element_data)]"
   ]
  },
  {
   "cell_type": "code",
   "execution_count": 4,
   "metadata": {
    "collapsed": true
   },
   "outputs": [],
   "source": [
    "def get_prop(prop, path_to_element_data):\n",
    "    \"\"\"\n",
    "    Args:\n",
    "        prop (str) - name of elemental property\n",
    "        path_to_element_data (str) - path to folder of elemental property files\n",
    "    Returns:\n",
    "        dictionary of {element (str) : property value (float)}\n",
    "    \"\"\"\n",
    "    fin = os.path.join(path_to_element_data, prop+'.csv')\n",
    "    with open(fin) as f:\n",
    "        all_els = {line.split(',')[0] : float(line.split(',')[1][:-1]) for line in f}\n",
    "        my_els = ['Al', 'Ga', 'In']\n",
    "        return {el : all_els[el] for el in all_els if el in my_els}    "
   ]
  },
  {
   "cell_type": "code",
   "execution_count": 5,
   "metadata": {
    "collapsed": true
   },
   "outputs": [],
   "source": [
    "# average each property using the composition\n",
    "\n",
    "def avg_prop(x_Al, x_Ga, x_In, prop):\n",
    "    \"\"\"\n",
    "    Args:\n",
    "        x_Al (float or DataFrame series) - concentration of Al\n",
    "        x_Ga (float or DataFrame series) - concentration of Ga\n",
    "        x_In (float or DataFrame series) - concentration of In\n",
    "        prop (str) - name of elemental property\n",
    "    Returns:\n",
    "        average property for the compound (float or DataFrame series), \n",
    "        weighted by the elemental concentrations\n",
    "    \"\"\"\n",
    "    els = ['Al', 'Ga', 'In']\n",
    "    concentration_dict = dict(zip(els, [x_Al, x_Ga, x_In]))\n",
    "    return np.sum(prop_dict[prop][el] * concentration_dict[el] for el in els)"
   ]
  },
  {
   "cell_type": "code",
   "execution_count": 6,
   "metadata": {
    "collapsed": true
   },
   "outputs": [],
   "source": [
    "# calculate the volume of the structure\n",
    "\n",
    "def get_vol(a, b, c, alpha, beta, gamma):\n",
    "    \"\"\"\n",
    "    Args:\n",
    "        a (float) - lattice vector 1\n",
    "        b (float) - lattice vector 2\n",
    "        c (float) - lattice vector 3\n",
    "        alpha (float) - lattice angle 1 [radians]\n",
    "        beta (float) - lattice angle 2 [radians]\n",
    "        gamma (float) - lattice angle 3 [radians]\n",
    "    Returns:\n",
    "        volume (float) of the parallelepiped unit cell\n",
    "    \"\"\"\n",
    "    return a*b*c*np.sqrt(1 + 2*np.cos(alpha)*np.cos(beta)*np.cos(gamma)\n",
    "                           - np.cos(alpha)**2\n",
    "                           - np.cos(beta)**2\n",
    "                           - np.cos(gamma)**2)"
   ]
  },
  {
   "cell_type": "code",
   "execution_count": 7,
   "metadata": {
    "collapsed": true
   },
   "outputs": [],
   "source": [
    "def get_atomic_density(df):\n",
    "    return df['Natoms'] / df['vol']"
   ]
  },
  {
   "cell_type": "code",
   "execution_count": 8,
   "metadata": {
    "collapsed": true
   },
   "outputs": [],
   "source": [
    "def execute(df_train):    \n",
    "    # folder which contains data folders\n",
    "    input_dir = os.path.join('/home/agi/Desktop/NOMAD/', 'data')\n",
    "    # folder which contains element data\n",
    "    path_to_element_data = os.path.join(input_dir, 'elemental-properties')\n",
    "    # get list of properties which have data files\n",
    "    properties = get_prop_list(path_to_element_data)\n",
    "    print(sorted(properties))\n",
    "\n",
    "    # make nested dictionary which maps {property (str) : {element (str) : property value (float)}}\n",
    "    prop_dict = {prop : get_prop(prop, path_to_element_data) for prop in properties}\n",
    "    print('The mass of aluminum is %.2f amu' % prop_dict['mass']['Al'])\n",
    "\n",
    "    # add averaged properties to DataFrame\n",
    "    for prop in properties:\n",
    "        df_train['_'.join(['avg', prop])] = avg_prop(df_train['x_Al'], \n",
    "                                                     df_train['x_Ga'],\n",
    "                                                     df_train['x_In'],\n",
    "                                                     prop)\n",
    "    list(df_train)\n",
    "\n",
    "    # convert lattice angles from degrees to radians for volume calculation\n",
    "    lattice_angles = ['alpha', 'beta', 'gamma']\n",
    "    for lang in lattice_angles:\n",
    "        df_train['_'.join([lang, 'r'])] = np.pi * df_train[lang] / 180\n",
    "\n",
    "    # compute the cell volumes \n",
    "    df_train['vol'] = get_vol(df_train['a'], df_train['b'], df_train['c'],\n",
    "                              df_train['alpha_r'], df_train['beta_r'], df_train['gamma_r'])\n",
    "    df_train[['a','b','c','alpha_r','beta_r','gamma_r','vol']].head()\n",
    "\n",
    "    # calculate the atomic density\n",
    "\n",
    "    # this is known to correlate with stability or bonding strength\n",
    "    df_train['atomic_density'] = get_atomic_density(df_train)\n",
    "    \n",
    "    train_cols = ['id',\n",
    "     'spacegroup',\n",
    "     'Natoms',\n",
    "     'x_Al',\n",
    "     'x_Ga',\n",
    "     'x_In',\n",
    "     'a',\n",
    "     'b',\n",
    "     'c',\n",
    "     'alpha',\n",
    "     'beta',\n",
    "     'gamma',\n",
    "     'avg_HOMO',\n",
    "     'avg_rs_max',\n",
    "     'avg_rp_max',\n",
    "     'avg_mass',\n",
    "     'avg_rd_max',\n",
    "     'avg_LUMO',\n",
    "     'avg_EA',\n",
    "     'avg_electronegativity',\n",
    "     'avg_IP',\n",
    "     'alpha_r',\n",
    "     'beta_r',\n",
    "     'gamma_r',\n",
    "     'vol',\n",
    "     'atomic_density',\n",
    "     'formation_energy_ev_natom',\n",
    "     'bandgap_energy_ev',]\n",
    "\n",
    "    df_train=df_train.reindex(columns=train_cols)\n",
    "\n",
    "    return df_train"
   ]
  },
  {
   "cell_type": "code",
   "execution_count": 9,
   "metadata": {},
   "outputs": [
    {
     "ename": "NameError",
     "evalue": "name 'input_dir' is not defined",
     "output_type": "error",
     "traceback": [
      "\u001b[1;31m---------------------------------------------------------------------------\u001b[0m",
      "\u001b[1;31mNameError\u001b[0m                                 Traceback (most recent call last)",
      "\u001b[1;32m<ipython-input-9-da23a1526a62>\u001b[0m in \u001b[0;36m<module>\u001b[1;34m()\u001b[0m\n\u001b[0;32m      1\u001b[0m \u001b[1;31m# folder which contains competition data\u001b[0m\u001b[1;33m\u001b[0m\u001b[1;33m\u001b[0m\u001b[0m\n\u001b[1;32m----> 2\u001b[1;33m \u001b[0mpath_to_train_data\u001b[0m \u001b[1;33m=\u001b[0m \u001b[0mos\u001b[0m\u001b[1;33m.\u001b[0m\u001b[0mpath\u001b[0m\u001b[1;33m.\u001b[0m\u001b[0mjoin\u001b[0m\u001b[1;33m(\u001b[0m\u001b[0minput_dir\u001b[0m\u001b[1;33m,\u001b[0m \u001b[1;34m''\u001b[0m\u001b[1;33m)\u001b[0m\u001b[1;33m\u001b[0m\u001b[0m\n\u001b[0m\u001b[0;32m      3\u001b[0m \u001b[1;33m\u001b[0m\u001b[0m\n\u001b[0;32m      4\u001b[0m \u001b[1;31m# training data\u001b[0m\u001b[1;33m\u001b[0m\u001b[1;33m\u001b[0m\u001b[0m\n\u001b[0;32m      5\u001b[0m \u001b[0mf_train\u001b[0m \u001b[1;33m=\u001b[0m \u001b[0mos\u001b[0m\u001b[1;33m.\u001b[0m\u001b[0mpath\u001b[0m\u001b[1;33m.\u001b[0m\u001b[0mjoin\u001b[0m\u001b[1;33m(\u001b[0m\u001b[0mpath_to_train_data\u001b[0m\u001b[1;33m,\u001b[0m \u001b[1;34m'train.csv'\u001b[0m\u001b[1;33m)\u001b[0m\u001b[1;33m\u001b[0m\u001b[0m\n",
      "\u001b[1;31mNameError\u001b[0m: name 'input_dir' is not defined"
     ]
    }
   ],
   "source": [
    "# folder which contains competition data\n",
    "path_to_train_data = os.path.join(input_dir, '')\n",
    "\n",
    "# training data\n",
    "f_train = os.path.join(path_to_train_data, 'train.csv')\n",
    "f_test = os.path.join(path_to_train_data, 'test.csv')\n",
    "# make DataFrame of training data\n",
    "df_train = make_df(f_train)\n",
    "\n",
    "train_prep = execute(df_train)\n",
    "train_prep.to_csv(\"/home/agi/Desktop/NOMAD/train_prepared2.csv\", index=False)"
   ]
  },
  {
   "cell_type": "code",
   "execution_count": 10,
   "metadata": {},
   "outputs": [
    {
     "ename": "NameError",
     "evalue": "name 'f_test' is not defined",
     "output_type": "error",
     "traceback": [
      "\u001b[1;31m---------------------------------------------------------------------------\u001b[0m",
      "\u001b[1;31mNameError\u001b[0m                                 Traceback (most recent call last)",
      "\u001b[1;32m<ipython-input-10-c71c4d2f8140>\u001b[0m in \u001b[0;36m<module>\u001b[1;34m()\u001b[0m\n\u001b[1;32m----> 1\u001b[1;33m \u001b[0mtest_prep\u001b[0m \u001b[1;33m=\u001b[0m \u001b[0mexecute\u001b[0m\u001b[1;33m(\u001b[0m\u001b[0mmake_df\u001b[0m\u001b[1;33m(\u001b[0m\u001b[0mf_test\u001b[0m\u001b[1;33m)\u001b[0m\u001b[1;33m)\u001b[0m\u001b[1;33m\u001b[0m\u001b[0m\n\u001b[0m\u001b[0;32m      2\u001b[0m \u001b[0mtest_prep\u001b[0m\u001b[1;33m.\u001b[0m\u001b[0mto_csv\u001b[0m\u001b[1;33m(\u001b[0m\u001b[1;34m\"/home/agi/Desktop/NOMAD/test_prepared2.csv\"\u001b[0m\u001b[1;33m,\u001b[0m \u001b[0mindex\u001b[0m\u001b[1;33m=\u001b[0m\u001b[1;32mFalse\u001b[0m\u001b[1;33m)\u001b[0m\u001b[1;33m\u001b[0m\u001b[0m\n",
      "\u001b[1;31mNameError\u001b[0m: name 'f_test' is not defined"
     ]
    }
   ],
   "source": [
    "test_prep = execute(make_df(f_test))\n",
    "test_prep.to_csv(\"/home/agi/Desktop/NOMAD/test_prepared2.csv\", index=False)"
   ]
  },
  {
   "cell_type": "code",
   "execution_count": null,
   "metadata": {
    "collapsed": true
   },
   "outputs": [],
   "source": []
  }
 ],
 "metadata": {
  "kernelspec": {
   "display_name": "Python 3",
   "language": "python",
   "name": "python3"
  },
  "language_info": {
   "codemirror_mode": {
    "name": "ipython",
    "version": 3
   },
   "file_extension": ".py",
   "mimetype": "text/x-python",
   "name": "python",
   "nbconvert_exporter": "python",
   "pygments_lexer": "ipython3",
   "version": "3.6.3"
  }
 },
 "nbformat": 4,
 "nbformat_minor": 2
}
