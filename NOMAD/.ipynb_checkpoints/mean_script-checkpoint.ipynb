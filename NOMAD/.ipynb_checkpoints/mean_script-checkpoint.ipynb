{
 "cells": [
  {
   "cell_type": "code",
   "execution_count": 29,
   "metadata": {
    "collapsed": true
   },
   "outputs": [],
   "source": [
    "import glob, os, sys\n",
    "import pandas as pd\n",
    "import numpy as np"
   ]
  },
  {
   "cell_type": "code",
   "execution_count": 43,
   "metadata": {},
   "outputs": [
    {
     "name": "stdout",
     "output_type": "stream",
     "text": [
      "      id  formation_energy_ev_natom  bandgap_energy_ev\n",
      "0      1                   0.199254           1.582617\n",
      "1      2                   0.064780           3.752002\n",
      "2      3                   0.159684           3.471571\n",
      "3      4                   0.031259           3.036866\n",
      "4      5                   0.136458           1.578314\n",
      "5      6                   0.062602           4.503353\n",
      "6      7                   0.074039           3.232567\n",
      "7      8                   0.115930           2.089914\n",
      "8      9                   0.068642           2.756854\n",
      "9     10                   0.244393           2.987420\n",
      "10    11                   0.194393           1.903581\n",
      "11    12                   0.097257           2.658884\n",
      "12    13                   0.317866           1.007892\n",
      "13    14                   0.162620           1.876824\n",
      "14    15                   0.056935           0.960760\n",
      "15    16                   0.260078           3.575958\n",
      "16    17                   0.202936           1.795210\n",
      "17    18                   0.208863           2.323920\n",
      "18    19                   0.381202           1.347314\n",
      "19    20                   0.186550           1.417033\n",
      "20    21                   0.082446           1.840998\n",
      "21    22                   0.158303           2.876701\n",
      "22    23                   0.175266           1.694836\n",
      "23    24                   0.176184           3.084169\n",
      "24    25                   0.027868           2.478356\n",
      "25    26                   0.147496           0.922718\n",
      "26    27                   0.251710           1.357375\n",
      "27    28                   0.224780           1.897838\n",
      "28    29                   0.120024           1.177872\n",
      "29    30                   0.232824           1.914375\n",
      "..   ...                        ...                ...\n",
      "570  571                   0.291263           1.253026\n",
      "571  572                   0.138117           1.132615\n",
      "572  573                   0.236690           2.691671\n",
      "573  574                   0.130208           1.783087\n",
      "574  575                   0.036152           3.243711\n",
      "575  576                   0.229416           2.312483\n",
      "576  577                   0.301725           0.470209\n",
      "577  578                   0.250820           1.073529\n",
      "578  579                   0.186375           1.303470\n",
      "579  580                   0.146995           1.407802\n",
      "580  581                   0.068656           3.438192\n",
      "581  582                   0.097718           1.069847\n",
      "582  583                   0.268314           1.476259\n",
      "583  584                   0.126268           1.289614\n",
      "584  585                   0.253024           1.015086\n",
      "585  586                   0.028454           5.012575\n",
      "586  587                   0.028454           5.012575\n",
      "587  588                   0.156803           3.618587\n",
      "588  589                   0.370918           0.813964\n",
      "589  590                   0.154280           1.991092\n",
      "590  591                   0.036191           2.899312\n",
      "591  592                   0.215653           1.452504\n",
      "592  593                   0.126900           1.044777\n",
      "593  594                   0.065537           3.665042\n",
      "594  595                   0.143773           1.542237\n",
      "595  596                   0.033924           1.347122\n",
      "596  597                   0.226007           0.931849\n",
      "597  598                   0.159573           0.761297\n",
      "598  599                   0.246628           2.207502\n",
      "599  600                   0.211002           2.190419\n",
      "\n",
      "[600 rows x 3 columns]\n"
     ]
    }
   ],
   "source": [
    "def mean_submit(input_d, output_f):\n",
    "    os.chdir(input_d)       \n",
    "    files = (os.path.join(input_d, f) for f in os.listdir())\n",
    "    dfs = (pd.read_csv(f) for f in files)\n",
    "    mats = (df.as_matrix() for df in dfs)\n",
    "    sub_stack = np.dstack(tuple(mats))\n",
    "    reduce_mean = np.mean(sub_stack, axis=2)\n",
    "    submission = pd.DataFrame(reduce_mean, columns=['id', 'formation_energy_ev_natom', \"bandgap_energy_ev\"])\n",
    "    submission = submission.drop('id', 1)\n",
    "    submission.insert(0, 'id', range(1, 601))\n",
    "    submission.to_csv(output_f, index=False)\n",
    "    \n",
    "input_directory = sys.argv[1]\n",
    "output_file = sys.argv[2]          \n",
    "            \n",
    "mean_submit(input_directory, output_file)"
   ]
  }
 ],
 "metadata": {
  "kernelspec": {
   "display_name": "Python 3",
   "language": "python",
   "name": "python3"
  },
  "language_info": {
   "codemirror_mode": {
    "name": "ipython",
    "version": 3
   },
   "file_extension": ".py",
   "mimetype": "text/x-python",
   "name": "python",
   "nbconvert_exporter": "python",
   "pygments_lexer": "ipython3",
   "version": "3.6.3"
  }
 },
 "nbformat": 4,
 "nbformat_minor": 2
}
