{
 "cells": [
  {
   "cell_type": "code",
   "execution_count": null,
   "metadata": {
    "collapsed": true
   },
   "outputs": [],
   "source": [
    "import json\n",
    "import lightgbm as lgb\n",
    "import pandas as pd\n",
    "import numpy as np\n",
    "from sklearn.metrics import mean_squared_error\n",
    "from sklearn.model_selection import train_test_split\n",
    "import xgboost as xgb"
   ]
  },
  {
   "cell_type": "code",
   "execution_count": null,
   "metadata": {
    "collapsed": true
   },
   "outputs": [],
   "source": [
    "def rmsle(actual, predicted):\n",
    "    \"\"\"\n",
    "    Args:\n",
    "        actual (1d-array) - array of actual values (float)\n",
    "        predicted (1d-array) - array of predicted values (float)\n",
    "    Returns:\n",
    "        root mean square log error (float)\n",
    "    \"\"\"\n",
    "    return np.sqrt(np.mean(np.power(np.log1p(actual)-np.log1p(predicted), 2)))\n",
    "\n",
    "def display_scores(scores):\n",
    "    #print(\"Scores: \", scores)\n",
    "    print(\"Mean: \", scores.mean())\n",
    "    #print(\"Standard deviation: \", scores.std())"
   ]
  },
  {
   "cell_type": "code",
   "execution_count": null,
   "metadata": {
    "collapsed": true
   },
   "outputs": [],
   "source": [
    "def drop_features(df_t):\n",
    "    df = df_t.copy()\n",
    "    df = df.drop('id', 1)\n",
    "    df = df.drop(\"formation_energy_ev_natom\", 1)\n",
    "    df = df.drop(\"bandgap_energy_ev\", 1)\n",
    "    return df"
   ]
  },
  {
   "cell_type": "code",
   "execution_count": null,
   "metadata": {},
   "outputs": [],
   "source": [
    "# Create dataset\n",
    "df = pd.read_csv('/home/agi/Desktop/NOMAD/data/train_prepared.csv')\n",
    "train_df, test_df = train_test_split(df, test_size=0.2, random_state=42)\n",
    "\n",
    "X_train = drop_features(train_df)\n",
    "X_test  = drop_features(test_df)\n",
    "\n",
    "y_form_train = train_df[\"formation_energy_ev_natom\"]\n",
    "y_band_train = train_df[\"bandgap_energy_ev\"]\n",
    "\n",
    "y_form_test  = test_df[\"formation_energy_ev_natom\"]\n",
    "y_band_test  = test_df[\"bandgap_energy_ev\"]\n",
    "\n",
    "num_train, num_feature = X_train.shape\n",
    "X_train.head()"
   ]
  },
  {
   "cell_type": "code",
   "execution_count": null,
   "metadata": {
    "collapsed": true
   },
   "outputs": [],
   "source": [
    "lgb_train_form = lgb.Dataset(X_train, y_form_train, free_raw_data=False)\n",
    "lgb_eval_form = lgb.Dataset(X_train, y_form_train, reference=lgb_train_form, free_raw_data=False)"
   ]
  },
  {
   "cell_type": "code",
   "execution_count": null,
   "metadata": {
    "collapsed": true
   },
   "outputs": [],
   "source": [
    "import warnings\n",
    "warnings.filterwarnings('ignore')\n",
    "lgb_estimator = lgb.LGBMRegressor(boosting_type='gbdt',\n",
    "                                  objective='regression',\n",
    "                                  num_boost_round=5000,\n",
    "                                  learning_rate=0.1,\n",
    "                                  max_depth=-1,\n",
    "                                  num_leaf=5,\n",
    "                                  subsample=1,\n",
    "                                  min_split_gain=0.0,\n",
    "                                  min_data_in_leaf = 0,\n",
    "                                  categorical_feature=0)\n",
    "                                  #early_stopping_rounds=5) "
   ]
  },
  {
   "cell_type": "code",
   "execution_count": null,
   "metadata": {},
   "outputs": [],
   "source": [
    "from sklearn.model_selection import cross_val_score\n",
    "scores = cross_val_score(lgb_estimator, X_train, y_form_train, scoring=\"neg_mean_squared_error\", cv=8)\n",
    "rmse_scores = np.sqrt(-scores)\n",
    "display_scores(rmse_scores)\n",
    "reg = lgb_estimator.fit(X_train, y_form_train)\n",
    "y_pred_form = reg.predict(X_test)\n",
    "print('formation model\\'s RMSE:', mean_squared_error(y_form_test, y_pred_form) ** 0.5)\n",
    "print('formation model\\'s RMLSE:', rmsle(y_form_test, y_pred_form))"
   ]
  },
  {
   "cell_type": "code",
   "execution_count": null,
   "metadata": {
    "collapsed": true
   },
   "outputs": [],
   "source": []
  },
  {
   "cell_type": "code",
   "execution_count": null,
   "metadata": {
    "collapsed": true
   },
   "outputs": [],
   "source": []
  }
 ],
 "metadata": {
  "kernelspec": {
   "display_name": "Python 3",
   "language": "python",
   "name": "python3"
  },
  "language_info": {
   "codemirror_mode": {
    "name": "ipython",
    "version": 3
   },
   "file_extension": ".py",
   "mimetype": "text/x-python",
   "name": "python",
   "nbconvert_exporter": "python",
   "pygments_lexer": "ipython3",
   "version": "3.6.3"
  }
 },
 "nbformat": 4,
 "nbformat_minor": 2
}
