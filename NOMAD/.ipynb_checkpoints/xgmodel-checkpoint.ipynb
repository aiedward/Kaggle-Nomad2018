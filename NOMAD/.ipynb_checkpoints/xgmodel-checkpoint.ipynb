{
 "cells": [
  {
   "cell_type": "code",
   "execution_count": 1,
   "metadata": {
    "collapsed": true
   },
   "outputs": [],
   "source": [
    "import numpy as np\n",
    "import pandas as pd\n",
    "import xgboost as xgb\n",
    "from sklearn.model_selection import train_test_split\n",
    "from sklearn.metrics import make_scorer\n",
    "from datetime import datetime "
   ]
  },
  {
   "cell_type": "code",
   "execution_count": 2,
   "metadata": {
    "collapsed": true
   },
   "outputs": [],
   "source": [
    "# Utility functions\n",
    "def load_data(csv_path):\n",
    "    return pd.read_csv(csv_path)\n",
    "\n",
    "def rmsle(actual, predicted):\n",
    "    \"\"\"\n",
    "    Args:\n",
    "        actual (1d-array [nx1]) - array of actual values (float)\n",
    "        predicted (1d-array [nx1]) - array of predicted values (float)\n",
    "    Returns:\n",
    "        root mean square log error (float)\n",
    "    \"\"\"\n",
    "    return np.sqrt(np.mean(np.power(np.log1p(actual)-np.log1p(predicted), 2)))\n",
    "\n",
    "objective  = make_scorer(rmsle, greater_is_better=False)\n",
    "\n",
    "def drop_features(df_t):\n",
    "    df = df_t.copy()\n",
    "    df = df.drop('id', 1)\n",
    "    df = df.drop(\"formation_energy_ev_natom\", 1)\n",
    "    df = df.drop(\"bandgap_energy_ev\", 1)\n",
    "    return df\n",
    "\n",
    "def display_scores(scores):\n",
    "    print(\"Scores: \", scores)\n",
    "    print(\"Mean: \", scores.mean())\n",
    "    print(\"Standard deviation: \", scores.std())"
   ]
  },
  {
   "cell_type": "code",
   "execution_count": 3,
   "metadata": {
    "collapsed": true
   },
   "outputs": [],
   "source": [
    "# Create train/test datasets\n",
    "df = pd.read_csv('/home/agi/Desktop/NOMAD/data/train_prepared.csv')\n",
    "train_df, test_df = train_test_split(df, test_size=0.2, random_state=400)\n",
    "\n",
    "X_full = drop_features(df)\n",
    "X_train = drop_features(train_df)\n",
    "X_test  = drop_features(test_df)\n",
    "\n",
    "y_form_full = df[\"formation_energy_ev_natom\"]\n",
    "y_band_full = df[\"bandgap_energy_ev\"]\n",
    "\n",
    "y_form_train = train_df[\"formation_energy_ev_natom\"]\n",
    "y_band_train = train_df[\"bandgap_energy_ev\"]\n",
    "\n",
    "y_form_test  = test_df[\"formation_energy_ev_natom\"]\n",
    "y_band_test  = test_df[\"bandgap_energy_ev\"]"
   ]
  },
  {
   "cell_type": "code",
   "execution_count": 4,
   "metadata": {},
   "outputs": [
    {
     "name": "stdout",
     "output_type": "stream",
     "text": [
      "Execution time:  0:00:00.621468\n"
     ]
    }
   ],
   "source": [
    "# Configuration\n",
    "params_f = {\n",
    "    'max_depth':6,\n",
    "    'learning_rate':0.05,\n",
    "    'n_estimators':125,\n",
    "    'min_child_weight':20,\n",
    "    'colsample_bytree':0.7,\n",
    "    'colsample_bylevel':0.8,\n",
    "    'reg_lambda':5,\n",
    "    'subsample':0.8\n",
    "}\n",
    "\n",
    "params_b = {\n",
    "    'max_depth':4,\n",
    "    'learning_rate':0.07,\n",
    "    'n_estimators':725,\n",
    "    'min_child_weight':20,\n",
    "    'colsample_bytree':0.7,\n",
    "    'colsample_bylevel':0.9,\n",
    "    'reg_lambda':5,\n",
    "    'subsample':0.8\n",
    "}\n",
    "\n",
    "num_boost_round = 40\n",
    "esr = 40\n",
    "ev_dict_f = {}\n",
    "ev_dict_b = {}\n",
    "\n",
    "xgb_train_form = xgb.DMatrix(X_train,y_form_train)\n",
    "xgb_train_band = xgb.DMatrix(X_train,y_band_train)\n",
    "\n",
    "xgb_test_form = xgb.DMatrix(X_test,y_form_test)\n",
    "xgb_test_band = xgb.DMatrix(X_test,y_band_test)\n",
    "\n",
    "# Fit to test set\n",
    "start = datetime.now()\n",
    "xgb_model_form = xgb.train(params_f, xgb_train_form, num_boost_round, evals=[(xgb_train_form, \"form\")], \n",
    "                           evals_result=ev_dict_f, verbose_eval=False) \n",
    "xgb_model_band = xgb.train(params_b, xgb_train_band, num_boost_round, evals=[(xgb_train_band, \"band\")], \n",
    "                           evals_result=ev_dict_b, verbose_eval=False)\n",
    "stop = datetime.now()\n",
    "\n",
    "# Predict on test set\n",
    "xgb_pred_form = xgb_model_form.predict(xgb_test_form)\n",
    "xgb_pred_band = xgb_model_band.predict(xgb_test_band)\n",
    "\n",
    "print('Execution time: ', stop - start)"
   ]
  },
  {
   "cell_type": "code",
   "execution_count": 5,
   "metadata": {
    "scrolled": true
   },
   "outputs": [
    {
     "name": "stdout",
     "output_type": "stream",
     "text": [
      "0.03521\n",
      "0.185843\n",
      "form-rmse:  0.0401460657829\n",
      "band-rmse:  0.218975411284\n",
      "Expected LB:  0.0593643049893\n"
     ]
    }
   ],
   "source": [
    "from sklearn.metrics import mean_squared_error\n",
    "\n",
    "# Evaluate models \n",
    "print(ev_dict_f['form']['rmse'][-1])\n",
    "print(ev_dict_b['band']['rmse'][-1])\n",
    "\n",
    "print('form-rmse: ', mean_squared_error(y_form_test, xgb_pred_form) ** 0.5)\n",
    "print('band-rmse: ', mean_squared_error(y_band_test, xgb_pred_band) ** 0.5)\n",
    "\n",
    "\n",
    "f_rmsle = rmsle(y_form_test, xgb_pred_form)\n",
    "b_rmsle = rmsle(y_band_test, xgb_pred_band)\n",
    "print('Expected LB: ', (f_rmsle + b_rmsle) / 2)"
   ]
  },
  {
   "cell_type": "code",
   "execution_count": 6,
   "metadata": {},
   "outputs": [
    {
     "name": "stdout",
     "output_type": "stream",
     "text": [
      "Scores:  [ 0.05707815  0.06795943  0.06714063  0.05219012  0.05114615  0.0699484\n",
      "  0.06082621  0.05035566  0.0649717   0.05844032]\n",
      "Mean:  0.0600056782392\n",
      "Standard deviation:  0.00694319672234\n"
     ]
    }
   ],
   "source": [
    "# KFold cross validation\n",
    "from sklearn.model_selection import cross_val_score\n",
    "from sklearn.model_selection import KFold\n",
    "from xgboost import XGBRegressor\n",
    "\n",
    "k_fold = KFold(n_splits=10, random_state=7)\n",
    "model = XGBRegressor(max_depth=6, learning_rate=0.2, n_estimators=40, \n",
    "                     min_child_weight=70, colsample_bytree=0.9)\n",
    "\n",
    "scores_form = cross_val_score(model, X_full, y_form_full, scoring=objective, cv=k_fold)\n",
    "scores_band = cross_val_score(model, X_full, y_band_full, scoring=objective, cv=k_fold)\n",
    "\n",
    "rmse_scores = -scores_form - scores_band\n",
    "display_scores(rmse_scores / 2)"
   ]
  },
  {
   "cell_type": "code",
   "execution_count": 7,
   "metadata": {},
   "outputs": [
    {
     "name": "stdout",
     "output_type": "stream",
     "text": [
      "(600, 2)\n"
     ]
    }
   ],
   "source": [
    "# Prepare submission data set\n",
    "s_df = pd.read_csv('/home/agi/Desktop/NOMAD/data/test_prepared.csv')\n",
    "X_submit  = drop_features(s_df)\n",
    "xgb_submit = xgb.DMatrix(X_submit)\n",
    "# Predict \n",
    "submit_pred_form = xgb_model_form.predict(xgb_submit)\n",
    "submit_pred_band = xgb_model_band.predict(xgb_submit)\n",
    "\n",
    "# Build submission .csv\n",
    "submission = np.concatenate((submit_pred_form.reshape(600,1), submit_pred_band.reshape(600,1)), axis=1)\n",
    "submit_df = pd.DataFrame(submission, columns=['formation_energy_ev_natom', \"bandgap_energy_ev\"])\n",
    "submit_df[df < 0] = 0\n",
    "print(submit_df.shape)\n",
    "submit_df.insert(0, 'id', range(1, 601))\n",
    "submit_df.to_csv(\"/home/agi/Desktop/NOMAD/submissions/xgb_8.csv\", index=False)"
   ]
  }
 ],
 "metadata": {
  "kernelspec": {
   "display_name": "Python 3",
   "language": "python",
   "name": "python3"
  },
  "language_info": {
   "codemirror_mode": {
    "name": "ipython",
    "version": 3
   },
   "file_extension": ".py",
   "mimetype": "text/x-python",
   "name": "python",
   "nbconvert_exporter": "python",
   "pygments_lexer": "ipython3",
   "version": "3.6.3"
  }
 },
 "nbformat": 4,
 "nbformat_minor": 2
}
