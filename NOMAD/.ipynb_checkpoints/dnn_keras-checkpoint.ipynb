{
 "cells": [
  {
   "cell_type": "code",
   "execution_count": 72,
   "metadata": {},
   "outputs": [],
   "source": [
    "import pandas as pd\n",
    "import numpy as np\n",
    "import tensorflow as tf\n",
    "from sklearn.model_selection import train_test_split\n",
    "from sklearn.metrics import make_scorer\n",
    "import NUTILS as nutils"
   ]
  },
  {
   "cell_type": "code",
   "execution_count": 73,
   "metadata": {
    "collapsed": true
   },
   "outputs": [],
   "source": [
    "# Prepare data sets\n",
    "df_t = nutils.load_data('./train_prepared.csv')\n",
    "df_s = nutils.load_data('./test_prepared.csv')\n",
    "\n",
    "train_set, test_set = train_test_split(df_t, test_size=0.2, random_state=42)\n",
    "\n",
    "X_full = nutils.encode(nutils.drop_features(df_t))\n",
    "y_form_full = df_t[\"formation_energy_ev_natom\"]\n",
    "y_band_full = df_t[\"bandgap_energy_ev\"]\n",
    "\n",
    "X_train = nutils.encode(nutils.drop_features(train_set))\n",
    "X_test  = nutils.encode(nutils.drop_features(test_set))\n",
    "X_submt = nutils.encode(nutils.drop_features(df_s))\n",
    "                       \n",
    "y_form = train_set[\"formation_energy_ev_natom\"]\n",
    "y_band = train_set[\"bandgap_energy_ev\"]\n",
    "                       \n",
    "y_form_test = test_set[\"formation_energy_ev_natom\"]\n",
    "y_band_test = test_set[\"bandgap_energy_ev\"]"
   ]
  },
  {
   "cell_type": "code",
   "execution_count": 74,
   "metadata": {},
   "outputs": [],
   "source": [
    "import keras\n",
    "from keras.models import Sequential\n",
    "from keras.layers import Dense, Dropout, Activation, BatchNormalization\n",
    "from keras.optimizers import SGD\n",
    "import keras.losses as losses\n",
    "\n",
    "# For custom metrics\n",
    "import keras.backend as K\n",
    "\n",
    "def rmsle(y_actual, y_pred):\n",
    "    return K.sqrt(losses.mean_squared_logarithmic_error(y_actual, y_pred))\n",
    "\n",
    "objective  = make_scorer(rmsle, greater_is_better=False)"
   ]
  },
  {
   "cell_type": "code",
   "execution_count": 75,
   "metadata": {},
   "outputs": [
    {
     "name": "stdout",
     "output_type": "stream",
     "text": [
      "Epoch 1/10\n",
      "1920/1920 [==============================] - 5s 3ms/step - loss: 0.3098 - rmsle: 0.3098\n",
      "Epoch 2/10\n",
      "1920/1920 [==============================] - 1s 542us/step - loss: 0.2362 - rmsle: 0.2362\n",
      "Epoch 3/10\n",
      "1920/1920 [==============================] - 1s 537us/step - loss: 0.1973 - rmsle: 0.1973\n",
      "Epoch 4/10\n",
      "1920/1920 [==============================] - 1s 528us/step - loss: 0.1817 - rmsle: 0.1817\n",
      "Epoch 5/10\n",
      "1920/1920 [==============================] - 1s 533us/step - loss: 0.1714 - rmsle: 0.1714\n",
      "Epoch 6/10\n",
      "1920/1920 [==============================] - 1s 535us/step - loss: 0.1697 - rmsle: 0.1697\n",
      "Epoch 7/10\n",
      "1920/1920 [==============================] - 1s 547us/step - loss: 0.1652 - rmsle: 0.1652\n",
      "Epoch 8/10\n",
      "1920/1920 [==============================] - 1s 533us/step - loss: 0.1639 - rmsle: 0.1639\n",
      "Epoch 9/10\n",
      "1920/1920 [==============================] - 1s 541us/step - loss: 0.1654 - rmsle: 0.1654\n",
      "Epoch 10/10\n",
      "1920/1920 [==============================] - 1s 537us/step - loss: 0.1650 - rmsle: 0.1650\n",
      "480/480 [==============================] - 1s 3ms/step\n",
      "Test  rmsle :  0.168216431669\n"
     ]
    }
   ],
   "source": [
    "model_f = Sequential()\n",
    "model_f.add(Dense(30, activation='relu', kernel_initializer='he_uniform', input_dim=X_train.shape[1]))\n",
    "model_f.add(BatchNormalization(axis=-1, momentum=0.99, epsilon=0.001, center=True, scale=True))\n",
    "model_f.add(Dropout(0.5))\n",
    "model_f.add(Dense(30, activation='relu', kernel_initializer='he_uniform',))\n",
    "model_f.add(BatchNormalization(axis=-1, momentum=0.99, epsilon=0.001, center=True, scale=True))\n",
    "model_f.add(Dropout(0.5))\n",
    "model_f.add(Dense(20, activation='relu', kernel_initializer='he_uniform',))\n",
    "model_f.add(BatchNormalization(axis=-1, momentum=0.99, epsilon=0.001, center=True, scale=True))\n",
    "model_f.add(Dropout(0.5))\n",
    "model_f.add(Dense(20, activation='relu', kernel_initializer='he_uniform',))\n",
    "model_f.add(BatchNormalization(axis=-1, momentum=0.99, epsilon=0.001, center=True, scale=True))\n",
    "model_f.add(Dropout(0.5))\n",
    "model_f.add(Dense(10, activation='relu', kernel_initializer='he_uniform',))\n",
    "model_f.add(BatchNormalization(axis=-1, momentum=0.99, epsilon=0.001, center=True, scale=True))\n",
    "model_f.add(Dropout(0.5))\n",
    "model_f.add(Dense(10, activation='relu', kernel_initializer='he_uniform',))\n",
    "model_f.add(BatchNormalization(axis=-1, momentum=0.99, epsilon=0.001, center=True, scale=True))\n",
    "model_f.add(Dropout(0.5))\n",
    "model_f.add(Dense(5, activation='relu', kernel_initializer='he_uniform',))\n",
    "model_f.add(BatchNormalization(axis=-1, momentum=0.99, epsilon=0.001, center=True, scale=True))\n",
    "model_f.add(Dropout(0.5))\n",
    "model_f.add(Dense(5, activation='relu', kernel_initializer='he_uniform',))\n",
    "model_f.add(BatchNormalization(axis=-1, momentum=0.99, epsilon=0.001, center=True, scale=True))\n",
    "model_f.add(Dropout(0.5))\n",
    "model_f.add(Dense(1))\n",
    "\n",
    "sgd = SGD(lr=0.01, decay=1e-6, momentum=0.9, nesterov=True)\n",
    "model_f.compile(optimizer='rmsprop',\n",
    "              loss=rmsle,\n",
    "              metrics=[rmsle])\n",
    "\n",
    "history_f = model_f.fit(X_train.values, y_form.values,\n",
    "          epochs=10,\n",
    "          batch_size=10)\n",
    "\n",
    "score_f = model_f.evaluate(X_test.values, y_form_test.values, batch_size=10)\n",
    "print(\"Test \", model_f.metrics_names[1], \": \", score_f[1])"
   ]
  },
  {
   "cell_type": "code",
   "execution_count": 76,
   "metadata": {},
   "outputs": [
    {
     "name": "stdout",
     "output_type": "stream",
     "text": [
      "Epoch 1/10\n",
      "1920/1920 [==============================] - 5s 2ms/step - loss: 0.7828 - rmsle: 0.7828\n",
      "Epoch 2/10\n",
      "1920/1920 [==============================] - 1s 581us/step - loss: 0.6806 - rmsle: 0.6806\n",
      "Epoch 3/10\n",
      "1920/1920 [==============================] - 1s 549us/step - loss: 0.5793 - rmsle: 0.5793\n",
      "Epoch 4/10\n",
      "1920/1920 [==============================] - 1s 674us/step - loss: 0.4811 - rmsle: 0.4811\n",
      "Epoch 5/10\n",
      "1920/1920 [==============================] - 1s 641us/step - loss: 0.4206 - rmsle: 0.4206\n",
      "Epoch 6/10\n",
      "1920/1920 [==============================] - 1s 582us/step - loss: 0.3817 - rmsle: 0.3817\n",
      "Epoch 7/10\n",
      "1920/1920 [==============================] - 1s 546us/step - loss: 0.3568 - rmsle: 0.3568\n",
      "Epoch 8/10\n",
      "1920/1920 [==============================] - 1s 550us/step - loss: 0.3394 - rmsle: 0.3394\n",
      "Epoch 9/10\n",
      "1920/1920 [==============================] - 1s 546us/step - loss: 0.3175 - rmsle: 0.3175\n",
      "Epoch 10/10\n",
      "1920/1920 [==============================] - 1s 637us/step - loss: 0.3026 - rmsle: 0.3026\n",
      "480/480 [==============================] - 3s 6ms/step\n",
      "Test  rmsle :  0.277089487016\n"
     ]
    }
   ],
   "source": [
    "model_b = Sequential()\n",
    "model_b.add(Dense(30, activation='relu', kernel_initializer='he_uniform', input_dim=X_train.shape[1]))\n",
    "model_b.add(BatchNormalization(axis=-1, momentum=0.99, epsilon=0.001, center=True, scale=True))\n",
    "model_b.add(Dropout(0.5))\n",
    "model_b.add(Dense(30, activation='relu', kernel_initializer='he_uniform',))\n",
    "model_b.add(BatchNormalization(axis=-1, momentum=0.99, epsilon=0.001, center=True, scale=True))\n",
    "model_b.add(Dropout(0.5))\n",
    "model_b.add(Dense(20, activation='relu', kernel_initializer='he_uniform',))\n",
    "model_b.add(BatchNormalization(axis=-1, momentum=0.99, epsilon=0.001, center=True, scale=True))\n",
    "model_b.add(Dropout(0.5))\n",
    "model_b.add(Dense(20, activation='relu', kernel_initializer='he_uniform',))\n",
    "model_b.add(BatchNormalization(axis=-1, momentum=0.99, epsilon=0.001, center=True, scale=True))\n",
    "model_b.add(Dropout(0.5))\n",
    "model_b.add(Dense(10, activation='relu', kernel_initializer='he_uniform',))\n",
    "model_b.add(BatchNormalization(axis=-1, momentum=0.99, epsilon=0.001, center=True, scale=True))\n",
    "model_b.add(Dropout(0.5))\n",
    "model_b.add(Dense(10, activation='relu', kernel_initializer='he_uniform',))\n",
    "model_b.add(BatchNormalization(axis=-1, momentum=0.99, epsilon=0.001, center=True, scale=True))\n",
    "model_b.add(Dropout(0.5))\n",
    "model_b.add(Dense(5, activation='relu', kernel_initializer='he_uniform',))\n",
    "model_b.add(BatchNormalization(axis=-1, momentum=0.99, epsilon=0.001, center=True, scale=True))\n",
    "model_b.add(Dropout(0.5))\n",
    "model_b.add(Dense(5, activation='relu', kernel_initializer='he_uniform',))\n",
    "model_b.add(BatchNormalization(axis=-1, momentum=0.99, epsilon=0.001, center=True, scale=True))\n",
    "model_b.add(Dropout(0.5))\n",
    "model_b.add(Dense(1))\n",
    "\n",
    "sgd = SGD(lr=0.01, decay=1e-6, momentum=0.9, nesterov=True)\n",
    "model_b.compile(optimizer='rmsprop',\n",
    "              loss=rmsle,\n",
    "              metrics=[rmsle])\n",
    "\n",
    "history_b = model_b.fit(X_train.values, y_band.values,\n",
    "          epochs=10,\n",
    "          batch_size=10)\n",
    "\n",
    "score_b = model_b.evaluate(X_test.values, y_band_test.values, batch_size=1)\n",
    "print(\"Test \", model_b.metrics_names[1], \": \", score_b[1])"
   ]
  },
  {
   "cell_type": "code",
   "execution_count": 77,
   "metadata": {},
   "outputs": [
    {
     "name": "stdout",
     "output_type": "stream",
     "text": [
      "0.222652959342\n"
     ]
    }
   ],
   "source": [
    "print((score_f[1] + score_b[1])/2)"
   ]
  },
  {
   "cell_type": "code",
   "execution_count": 78,
   "metadata": {
    "collapsed": true
   },
   "outputs": [],
   "source": [
    "submit_pred_form = model_f.predict(X_submt.values)\n",
    "submit_pred_band = model_b.predict(X_submt.values)\n",
    "\n",
    "\n",
    "submission = np.concatenate((submit_pred_form.reshape(600,1), submit_pred_band.reshape(600,1)), axis=1)\n",
    "submit_df = pd.DataFrame(submission, columns=['formation_energy_ev_natom', \"bandgap_energy_ev\"])\n",
    "submit_df[submit_df < 0] = 0\n",
    "submit_df.insert(0, 'id', range(1, 601))\n",
    "\n",
    "# Save to file\n",
    "submit_df.to_csv(\"./k_dnn_1.csv\", index=False)"
   ]
  }
 ],
 "metadata": {
  "kernelspec": {
   "display_name": "Python 3",
   "language": "python",
   "name": "python3"
  },
  "language_info": {
   "codemirror_mode": {
    "name": "ipython",
    "version": 3
   },
   "file_extension": ".py",
   "mimetype": "text/x-python",
   "name": "python",
   "nbconvert_exporter": "python",
   "pygments_lexer": "ipython3",
   "version": "3.6.3"
  }
 },
 "nbformat": 4,
 "nbformat_minor": 2
}
